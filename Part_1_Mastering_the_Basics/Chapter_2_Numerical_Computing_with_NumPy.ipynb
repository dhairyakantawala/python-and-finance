{
 "cells": [
  {
   "cell_type": "markdown",
   "id": "5e15585f",
   "metadata": {},
   "source": [
    "Computers are useless. They can only give answers.\n",
    "—Pablo Picasso"
   ]
  },
  {
   "cell_type": "markdown",
   "id": "40e07c8e",
   "metadata": {},
   "source": [
    "We will coveer the following data structures:\n",
    "\n",
    "| Object type | Meaning | Used for |\n",
    "|------------|---------|-----------|\n",
    "| ndarray (regular) | n-dimensional array object | Large arrays of numerical data |\n",
    "| ndarray (record) | 2-dimensional array object | Tabular data organized in columns |"
   ]
  },
  {
   "cell_type": "markdown",
   "id": "78aca7a9",
   "metadata": {},
   "source": [
    "# Arrays of Data"
   ]
  },
  {
   "cell_type": "markdown",
   "id": "d9e7369d",
   "metadata": {},
   "source": [
    "## Arrays with Python Lists"
   ]
  },
  {
   "cell_type": "markdown",
   "id": "41fe8cb2",
   "metadata": {},
   "source": [
    "A simple list can already be considered a one-dimensional array."
   ]
  },
  {
   "cell_type": "code",
   "execution_count": 2,
   "id": "5a33fc18",
   "metadata": {},
   "outputs": [
    {
     "data": {
      "text/plain": [
       "list"
      ]
     },
     "execution_count": 2,
     "metadata": {},
     "output_type": "execute_result"
    }
   ],
   "source": [
    "v = [0.1, 0.2, 7, 989]\n",
    "type(v)"
   ]
  },
  {
   "cell_type": "code",
   "execution_count": 7,
   "id": "e1014472",
   "metadata": {},
   "outputs": [
    {
     "data": {
      "text/plain": [
       "0.1"
      ]
     },
     "execution_count": 7,
     "metadata": {},
     "output_type": "execute_result"
    }
   ],
   "source": [
    "m = [v, v, v]\n",
    "m[1][0]"
   ]
  },
  {
   "cell_type": "markdown",
   "id": "0ae9456d",
   "metadata": {},
   "source": [
    "Note: Combining objects in the way just presented generally works with reference\n",
    "pointers to the original objects. This means that:"
   ]
  },
  {
   "cell_type": "code",
   "execution_count": 10,
   "id": "e560e942",
   "metadata": {},
   "outputs": [
    {
     "data": {
      "text/plain": [
       "[['dhairya kantawala', 0.2, 7, 989],\n",
       " ['dhairya kantawala', 0.2, 7, 989],\n",
       " ['dhairya kantawala', 0.2, 7, 989]]"
      ]
     },
     "execution_count": 10,
     "metadata": {},
     "output_type": "execute_result"
    }
   ],
   "source": [
    "v[0] = 'dhairya kantawala'\n",
    "m"
   ]
  },
  {
   "cell_type": "markdown",
   "id": "b491a28c",
   "metadata": {},
   "source": [
    "Even tho m was not changed, the final output changes. This can be avoided by using the deepcopy() function of the copy module."
   ]
  },
  {
   "cell_type": "code",
   "execution_count": 15,
   "id": "5e0d75e7",
   "metadata": {},
   "outputs": [],
   "source": [
    "from copy import deepcopy\n",
    "v = [1,2,3,4,5,6]\n",
    "m = 3*[deepcopy(v)]"
   ]
  },
  {
   "cell_type": "code",
   "execution_count": 18,
   "id": "03429911",
   "metadata": {},
   "outputs": [
    {
     "data": {
      "text/plain": [
       "[[1, 2, 3, 4, 5, 6], [1, 2, 3, 4, 5, 6], [1, 2, 3, 4, 5, 6]]"
      ]
     },
     "execution_count": 18,
     "metadata": {},
     "output_type": "execute_result"
    }
   ],
   "source": [
    "v[0] = 'dhairya'\n",
    "m"
   ]
  },
  {
   "cell_type": "markdown",
   "id": "e990f418",
   "metadata": {},
   "source": [
    "## The Python array Class"
   ]
  },
  {
   "cell_type": "markdown",
   "id": "69b0bad7",
   "metadata": {},
   "source": [
    "This module defines an object type which can compactly represent an array of basic\n",
    "values: characters, integers, floating point numbers. Arrays are sequence types and\n",
    "behave very much like lists, except that the type of objects stored in them is constrained. The type is specified at object creation time by using a type code, which is a single character."
   ]
  },
  {
   "cell_type": "code",
   "execution_count": 44,
   "id": "5f8b58c7",
   "metadata": {},
   "outputs": [],
   "source": [
    "v = [1,2,3,4,5,6]\n",
    "import array\n",
    "a = array.array('f', v) #float type of array"
   ]
  },
  {
   "cell_type": "code",
   "execution_count": 45,
   "id": "ac769bd4",
   "metadata": {},
   "outputs": [],
   "source": [
    "a.append(0.222222)"
   ]
  },
  {
   "cell_type": "code",
   "execution_count": 46,
   "id": "db7a1797",
   "metadata": {},
   "outputs": [
    {
     "data": {
      "text/plain": [
       "array('f', [1.0, 2.0, 3.0, 4.0, 5.0, 6.0, 0.2222220003604889])"
      ]
     },
     "execution_count": 46,
     "metadata": {},
     "output_type": "execute_result"
    }
   ],
   "source": [
    "a"
   ]
  },
  {
   "cell_type": "code",
   "execution_count": 47,
   "id": "64f57696",
   "metadata": {},
   "outputs": [],
   "source": [
    "a.extend([1010, 9382.21])"
   ]
  },
  {
   "cell_type": "code",
   "execution_count": 48,
   "id": "4181b557",
   "metadata": {},
   "outputs": [
    {
     "data": {
      "text/plain": [
       "array('f', [1.0, 2.0, 3.0, 4.0, 5.0, 6.0, 0.2222220003604889, 1010.0, 9382.2099609375, 1.0, 2.0, 3.0, 4.0, 5.0, 6.0, 0.2222220003604889, 1010.0, 9382.2099609375])"
      ]
     },
     "execution_count": 48,
     "metadata": {},
     "output_type": "execute_result"
    }
   ],
   "source": [
    "2*a"
   ]
  },
  {
   "cell_type": "markdown",
   "id": "282bc492",
   "metadata": {},
   "source": [
    "Trying to append an object of a different data type than the one specified raises a\n",
    "TypeError."
   ]
  },
  {
   "cell_type": "code",
   "execution_count": 49,
   "id": "91172d97",
   "metadata": {},
   "outputs": [
    {
     "ename": "TypeError",
     "evalue": "must be real number, not str",
     "output_type": "error",
     "traceback": [
      "\u001b[31m---------------------------------------------------------------------------\u001b[39m",
      "\u001b[31mTypeError\u001b[39m                                 Traceback (most recent call last)",
      "\u001b[36mCell\u001b[39m\u001b[36m \u001b[39m\u001b[32mIn[49]\u001b[39m\u001b[32m, line 1\u001b[39m\n\u001b[32m----> \u001b[39m\u001b[32m1\u001b[39m \u001b[43ma\u001b[49m\u001b[43m.\u001b[49m\u001b[43mappend\u001b[49m\u001b[43m(\u001b[49m\u001b[33;43m'\u001b[39;49m\u001b[33;43mstring\u001b[39;49m\u001b[33;43m'\u001b[39;49m\u001b[43m)\u001b[49m\n",
      "\u001b[31mTypeError\u001b[39m: must be real number, not str"
     ]
    }
   ],
   "source": [
    "a.append('string')"
   ]
  },
  {
   "cell_type": "code",
   "execution_count": 50,
   "id": "76947868",
   "metadata": {},
   "outputs": [
    {
     "name": "stdout",
     "output_type": "stream",
     "text": [
      "[1.0, 2.0, 3.0, 4.0, 5.0, 6.0, 0.2222220003604889, 1010.0, 9382.2099609375, 'dhairya']\n"
     ]
    }
   ],
   "source": [
    "b = a.tolist()\n",
    "b.append('dhairya')\n",
    "print(b)"
   ]
  },
  {
   "cell_type": "markdown",
   "id": "90130b3f",
   "metadata": {},
   "source": [
    "An advantage of the array class is that it has built-in storage and retrieval functionality."
   ]
  },
  {
   "cell_type": "code",
   "execution_count": 51,
   "id": "fab9d015",
   "metadata": {},
   "outputs": [],
   "source": [
    "f = open('array.apy', 'wb')\n",
    "a.tofile(f)\n",
    "f.close()"
   ]
  },
  {
   "cell_type": "code",
   "execution_count": 57,
   "id": "5a327962",
   "metadata": {},
   "outputs": [],
   "source": [
    "with open('array.apy', 'wb') as f: #writes binary data\n",
    "    a.tofile(f) #this is an alternative method"
   ]
  },
  {
   "cell_type": "code",
   "execution_count": 58,
   "id": "880ac12b",
   "metadata": {},
   "outputs": [
    {
     "data": {
      "text/plain": [
       "array('f', [1.0, 2.0, 3.0, 4.0, 5.0])"
      ]
     },
     "execution_count": 58,
     "metadata": {},
     "output_type": "execute_result"
    }
   ],
   "source": [
    "b = array.array('f')\n",
    "with open('array.apy', 'rb') as f: #reads binary data\n",
    "    b.fromfile(f, 5) #shows the 5 elements\n",
    "b"
   ]
  },
  {
   "cell_type": "markdown",
   "id": "fa4f0d39",
   "metadata": {},
   "source": [
    "# Regular NumPy Arrays"
   ]
  },
  {
   "cell_type": "markdown",
   "id": "a6026b5f",
   "metadata": {},
   "source": [
    "## The Basics"
   ]
  },
  {
   "cell_type": "markdown",
   "id": "343bc81e",
   "metadata": {},
   "source": [
    "numpy.ndarray is just such a class, built with the specific goal of handling n-dimensional arrays both conveniently and efficiently—i.e., in a highly performant manner."
   ]
  },
  {
   "cell_type": "code",
   "execution_count": 59,
   "id": "196635ed",
   "metadata": {},
   "outputs": [
    {
     "data": {
      "text/plain": [
       "array([0.1, 0.2, 0.3, 8. ])"
      ]
     },
     "execution_count": 59,
     "metadata": {},
     "output_type": "execute_result"
    }
   ],
   "source": [
    "import numpy as np\n",
    "a = np.array([0.1, 0.2, 0.3, 8])\n",
    "a"
   ]
  },
  {
   "cell_type": "code",
   "execution_count": 60,
   "id": "ecf06062",
   "metadata": {},
   "outputs": [
    {
     "data": {
      "text/plain": [
       "numpy.ndarray"
      ]
     },
     "execution_count": 60,
     "metadata": {},
     "output_type": "execute_result"
    }
   ],
   "source": [
    "type(a)"
   ]
  },
  {
   "cell_type": "code",
   "execution_count": 62,
   "id": "0119cd2a",
   "metadata": {},
   "outputs": [
    {
     "data": {
      "text/plain": [
       "array(['a', 'b', 'c'], dtype='<U1')"
      ]
     },
     "execution_count": 62,
     "metadata": {},
     "output_type": "execute_result"
    }
   ],
   "source": [
    "a = np.array(['a', 'b', 'c'])\n",
    "a"
   ]
  },
  {
   "cell_type": "code",
   "execution_count": 63,
   "id": "4a44fc01",
   "metadata": {},
   "outputs": [
    {
     "data": {
      "text/plain": [
       "array([ 2,  4,  6,  8, 10, 12, 14, 16, 18])"
      ]
     },
     "execution_count": 63,
     "metadata": {},
     "output_type": "execute_result"
    }
   ],
   "source": [
    "a = np.arange(2, 20, 2)\n",
    "a"
   ]
  },
  {
   "cell_type": "code",
   "execution_count": 67,
   "id": "5626c903",
   "metadata": {},
   "outputs": [
    {
     "data": {
      "text/plain": [
       "array([0., 1., 2., 3., 4., 5., 6., 7.])"
      ]
     },
     "execution_count": 67,
     "metadata": {},
     "output_type": "execute_result"
    }
   ],
   "source": [
    "a = np.arange(8, dtype=np.float64)\n",
    "a"
   ]
  },
  {
   "cell_type": "code",
   "execution_count": 69,
   "id": "d8688262",
   "metadata": {},
   "outputs": [
    {
     "name": "stdout",
     "output_type": "stream",
     "text": [
      "[5. 6. 7.]\n",
      "[0. 1.]\n"
     ]
    }
   ],
   "source": [
    "print(a[5:])\n",
    "print(a[:2])"
   ]
  },
  {
   "cell_type": "code",
   "execution_count": 79,
   "id": "2fa25838",
   "metadata": {},
   "outputs": [
    {
     "name": "stdout",
     "output_type": "stream",
     "text": [
      "28.0\n",
      "28.0\n"
     ]
    }
   ],
   "source": [
    "sum = 0.0\n",
    "for i in range(8):\n",
    "    sum+=i\n",
    "print(sum)\n",
    "print(a.sum())"
   ]
  },
  {
   "cell_type": "code",
   "execution_count": 82,
   "id": "95a31378",
   "metadata": {},
   "outputs": [
    {
     "name": "stdout",
     "output_type": "stream",
     "text": [
      "2.29128784747792\n"
     ]
    }
   ],
   "source": [
    "print(a.std()) #this is the standard div"
   ]
  },
  {
   "cell_type": "code",
   "execution_count": 83,
   "id": "1a23bf1f",
   "metadata": {},
   "outputs": [
    {
     "data": {
      "text/plain": [
       "array([ 0.,  1.,  3.,  6., 10., 15., 21., 28.])"
      ]
     },
     "execution_count": 83,
     "metadata": {},
     "output_type": "execute_result"
    }
   ],
   "source": [
    "a.cumsum()"
   ]
  },
  {
   "cell_type": "markdown",
   "id": "b904c173",
   "metadata": {},
   "source": [
    "## Vectorised operations"
   ]
  },
  {
   "cell_type": "code",
   "execution_count": 92,
   "id": "becaa6e9",
   "metadata": {},
   "outputs": [
    {
     "name": "stdout",
     "output_type": "stream",
     "text": [
      "[ 0.  2.  4.  6.  8. 10. 12. 14.]\n",
      "[ 0.  1.  4.  9. 16. 25. 36. 49.]\n",
      "[1.00000e+00 1.00000e+00 4.00000e+00 2.70000e+01 2.56000e+02 3.12500e+03\n",
      " 4.66560e+04 8.23543e+05]\n"
     ]
    }
   ],
   "source": [
    "print(2*a)\n",
    "print(a**2)\n",
    "print(a**a) #power of every element to itself"
   ]
  },
  {
   "cell_type": "markdown",
   "id": "0a30c889",
   "metadata": {},
   "source": [
    "Universal functions are another important feature of the NumPy package. They are\n",
    "“universal” in the sense that they in general operate on ndarray objects as well as on\n",
    "basic Python data types. However, when applying universal functions to, say, a\n",
    "Python float object, one needs to be aware of the reduced performance compared to\n",
    "the same functionality found in the math module."
   ]
  },
  {
   "cell_type": "code",
   "execution_count": 96,
   "id": "3b80e63d",
   "metadata": {},
   "outputs": [
    {
     "name": "stdout",
     "output_type": "stream",
     "text": [
      "[1.00000000e+00 2.71828183e+00 7.38905610e+00 2.00855369e+01\n",
      " 5.45981500e+01 1.48413159e+02 4.03428793e+02 1.09663316e+03]\n",
      "[0.         1.         1.41421356 1.73205081 2.         2.23606798\n",
      " 2.44948974 2.64575131]\n",
      "1.5811388300841898\n"
     ]
    }
   ],
   "source": [
    "print(np.exp(a))\n",
    "print(np.sqrt(a))\n",
    "print(np.sqrt(2.5))"
   ]
  },
  {
   "cell_type": "code",
   "execution_count": 97,
   "id": "8277f655",
   "metadata": {},
   "outputs": [
    {
     "ename": "TypeError",
     "evalue": "only length-1 arrays can be converted to Python scalars",
     "output_type": "error",
     "traceback": [
      "\u001b[31m---------------------------------------------------------------------------\u001b[39m",
      "\u001b[31mTypeError\u001b[39m                                 Traceback (most recent call last)",
      "\u001b[36mCell\u001b[39m\u001b[36m \u001b[39m\u001b[32mIn[97]\u001b[39m\u001b[32m, line 2\u001b[39m\n\u001b[32m      1\u001b[39m \u001b[38;5;28;01mimport\u001b[39;00m \u001b[34;01mmath\u001b[39;00m\n\u001b[32m----> \u001b[39m\u001b[32m2\u001b[39m \u001b[43mmath\u001b[49m\u001b[43m.\u001b[49m\u001b[43msqrt\u001b[49m\u001b[43m(\u001b[49m\u001b[43ma\u001b[49m\u001b[43m)\u001b[49m\n",
      "\u001b[31mTypeError\u001b[39m: only length-1 arrays can be converted to Python scalars"
     ]
    }
   ],
   "source": [
    "import math\n",
    "math.sqrt(a)"
   ]
  },
  {
   "cell_type": "code",
   "execution_count": 98,
   "id": "54473a7e",
   "metadata": {},
   "outputs": [
    {
     "name": "stdout",
     "output_type": "stream",
     "text": [
      "547 ns ± 7.16 ns per loop (mean ± std. dev. of 7 runs, 1,000,000 loops each)\n",
      "28.2 ns ± 0.0126 ns per loop (mean ± std. dev. of 7 runs, 10,000,000 loops each)\n"
     ]
    }
   ],
   "source": [
    "%timeit np.sqrt(2.5)\n",
    "%timeit math.sqrt(2.5)"
   ]
  },
  {
   "cell_type": "markdown",
   "id": "bf2369ac",
   "metadata": {},
   "source": [
    "## Multiple Dimensions"
   ]
  },
  {
   "cell_type": "code",
   "execution_count": 106,
   "id": "be4b2d32",
   "metadata": {},
   "outputs": [
    {
     "name": "stdout",
     "output_type": "stream",
     "text": [
      "[ 0.  2.  4.  6.  8. 10. 12. 14.]\n"
     ]
    }
   ],
   "source": [
    "b = np.array([a, a*2])\n",
    "print(b[1])"
   ]
  },
  {
   "cell_type": "code",
   "execution_count": 111,
   "id": "3b1d41de",
   "metadata": {},
   "outputs": [
    {
     "name": "stdout",
     "output_type": "stream",
     "text": [
      "2.0\n"
     ]
    }
   ],
   "source": [
    "print(b[0, 2]) #selects the 1st row, 3rd column element"
   ]
  },
  {
   "cell_type": "code",
   "execution_count": 112,
   "id": "5b2e9c65",
   "metadata": {},
   "outputs": [
    {
     "name": "stdout",
     "output_type": "stream",
     "text": [
      "[1. 2.]\n"
     ]
    }
   ],
   "source": [
    "print(b[:, 1]) #selects the second column, both rows"
   ]
  },
  {
   "cell_type": "code",
   "execution_count": 115,
   "id": "9bd80f84",
   "metadata": {},
   "outputs": [
    {
     "data": {
      "text/plain": [
       "np.float64(84.0)"
      ]
     },
     "execution_count": 115,
     "metadata": {},
     "output_type": "execute_result"
    }
   ],
   "source": [
    "b.sum()"
   ]
  },
  {
   "cell_type": "code",
   "execution_count": 116,
   "id": "8242c2c4",
   "metadata": {},
   "outputs": [
    {
     "data": {
      "text/plain": [
       "array([ 0.,  3.,  6.,  9., 12., 15., 18., 21.])"
      ]
     },
     "execution_count": 116,
     "metadata": {},
     "output_type": "execute_result"
    }
   ],
   "source": [
    "b.sum(axis=0) #calculates the sum over the first axis or the columns"
   ]
  },
  {
   "cell_type": "code",
   "execution_count": 117,
   "id": "3dd66156",
   "metadata": {},
   "outputs": [
    {
     "data": {
      "text/plain": [
       "array([28., 56.])"
      ]
     },
     "execution_count": 117,
     "metadata": {},
     "output_type": "execute_result"
    }
   ],
   "source": [
    "b.sum(axis=1) #calculates the sum over the second axis or the rows"
   ]
  },
  {
   "cell_type": "markdown",
   "id": "0c319f44",
   "metadata": {},
   "source": [
    "shape : Either an int, a sequence of int objects, or a reference to another ndarray\n",
    "\n",
    "dtype : A dtype—these are NumPy-specific data types for ndarray objects\n",
    "\n",
    "order : The order in which to store elements in memory: C for C-like (i.e., row-wise) or F for Fortran-like (i.e., column-wise)"
   ]
  },
  {
   "cell_type": "code",
   "execution_count": 121,
   "id": "48d3f2c4",
   "metadata": {},
   "outputs": [
    {
     "data": {
      "text/plain": [
       "array([[0, 0, 0],\n",
       "       [0, 0, 0]], dtype=int32)"
      ]
     },
     "execution_count": 121,
     "metadata": {},
     "output_type": "execute_result"
    }
   ],
   "source": [
    "c = np.zeros((2, 3), dtype='i', order='C')\n",
    "c"
   ]
  },
  {
   "cell_type": "code",
   "execution_count": 123,
   "id": "00fbe125",
   "metadata": {},
   "outputs": [
    {
     "data": {
      "text/plain": [
       "array([[[1, 1, 1, 1],\n",
       "        [1, 1, 1, 1],\n",
       "        [1, 1, 1, 1]],\n",
       "\n",
       "       [[1, 1, 1, 1],\n",
       "        [1, 1, 1, 1],\n",
       "        [1, 1, 1, 1]]], dtype=int32)"
      ]
     },
     "execution_count": 123,
     "metadata": {},
     "output_type": "execute_result"
    }
   ],
   "source": [
    "c = np.ones((2, 3, 4), dtype='i', order='c')\n",
    "c"
   ]
  },
  {
   "cell_type": "code",
   "execution_count": 126,
   "id": "e37b7517",
   "metadata": {},
   "outputs": [
    {
     "data": {
      "text/plain": [
       "array([[[0., 0., 0., 0.],\n",
       "        [0., 0., 0., 0.],\n",
       "        [0., 0., 0., 0.]],\n",
       "\n",
       "       [[0., 0., 0., 0.],\n",
       "        [0., 0., 0., 0.],\n",
       "        [0., 0., 0., 0.]]], dtype=float32)"
      ]
     },
     "execution_count": 126,
     "metadata": {},
     "output_type": "execute_result"
    }
   ],
   "source": [
    "d = np.zeros_like(c, dtype='f', order='C')\n",
    "d"
   ]
  },
  {
   "cell_type": "code",
   "execution_count": 128,
   "id": "7c7fb66b",
   "metadata": {},
   "outputs": [
    {
     "data": {
      "text/plain": [
       "array([[[1., 1., 1., 1.],\n",
       "        [1., 1., 1., 1.],\n",
       "        [1., 1., 1., 1.]],\n",
       "\n",
       "       [[1., 1., 1., 1.],\n",
       "        [1., 1., 1., 1.],\n",
       "        [1., 1., 1., 1.]]], dtype=float32)"
      ]
     },
     "execution_count": 128,
     "metadata": {},
     "output_type": "execute_result"
    }
   ],
   "source": [
    "d = np.ones_like(c, dtype='f', order='C')\n",
    "d"
   ]
  },
  {
   "cell_type": "code",
   "execution_count": 130,
   "id": "b470ad97",
   "metadata": {},
   "outputs": [
    {
     "data": {
      "text/plain": [
       "array([[[0.0078125, 0.0078125],\n",
       "        [0.0078125, 0.0078125],\n",
       "        [0.0078125, 0.0078125]],\n",
       "\n",
       "       [[0.0078125, 0.0078125],\n",
       "        [0.0078125, 0.0078125],\n",
       "        [0.0078125, 0.0078125]]])"
      ]
     },
     "execution_count": 130,
     "metadata": {},
     "output_type": "execute_result"
    }
   ],
   "source": [
    "e = np.empty((2, 3, 2))\n",
    "e"
   ]
  },
  {
   "cell_type": "code",
   "execution_count": 132,
   "id": "56f357cf",
   "metadata": {},
   "outputs": [
    {
     "data": {
      "text/plain": [
       "array([[[1065353216, 1065353216, 1065353216, 1065353216],\n",
       "        [1065353216, 1065353216, 1065353216, 1065353216],\n",
       "        [1065353216, 1065353216, 1065353216, 1065353216]],\n",
       "\n",
       "       [[1065353216, 1065353216, 1065353216, 1065353216],\n",
       "        [1065353216, 1065353216, 1065353216, 1065353216],\n",
       "        [1065353216, 1065353216, 1065353216, 1065353216]]], dtype=int32)"
      ]
     },
     "execution_count": 132,
     "metadata": {},
     "output_type": "execute_result"
    }
   ],
   "source": [
    "f = np.empty_like(c)\n",
    "f"
   ]
  },
  {
   "cell_type": "code",
   "execution_count": 135,
   "id": "6142194a",
   "metadata": {},
   "outputs": [
    {
     "data": {
      "text/plain": [
       "array([[1., 0., 0., 0., 0.],\n",
       "       [0., 1., 0., 0., 0.],\n",
       "       [0., 0., 1., 0., 0.],\n",
       "       [0., 0., 0., 1., 0.],\n",
       "       [0., 0., 0., 0., 1.]])"
      ]
     },
     "execution_count": 135,
     "metadata": {},
     "output_type": "execute_result"
    }
   ],
   "source": [
    "np.eye(5) # I 5*5 matrix"
   ]
  },
  {
   "cell_type": "code",
   "execution_count": 137,
   "id": "a473db8e",
   "metadata": {},
   "outputs": [
    {
     "data": {
      "text/plain": [
       "array([ 5.        ,  5.90909091,  6.81818182,  7.72727273,  8.63636364,\n",
       "        9.54545455, 10.45454545, 11.36363636, 12.27272727, 13.18181818,\n",
       "       14.09090909, 15.        ])"
      ]
     },
     "execution_count": 137,
     "metadata": {},
     "output_type": "execute_result"
    }
   ],
   "source": [
    "g = np.linspace(5, 15, 12) #start, end and number of elements\n",
    "g"
   ]
  },
  {
   "cell_type": "markdown",
   "id": "a98d764d",
   "metadata": {},
   "source": [
    "| dtype | Description | Example |\n",
    "|-------|-------------|---------|\n",
    "| ? | Boolean | ? (True or False) |\n",
    "| i | Signed integer | i8 (64-bit) |\n",
    "| u | Unsigned integer | u8 (64-bit) |\n",
    "| f | Floating point | f8 (64-bit) |\n",
    "| c | Complex floating point | c32 (256-bit) |\n",
    "| m | timedelta | m (64-bit) |\n",
    "| M | datetime | M (64-bit) |\n",
    "| O | Object | O (pointer to object) |\n",
    "| U | Unicode | U24 (24 Unicode characters) |\n",
    "| V | Raw data (void) | V12 (12-byte data block) |"
   ]
  },
  {
   "cell_type": "markdown",
   "id": "1eb314cf",
   "metadata": {},
   "source": [
    "## Metainformation"
   ]
  },
  {
   "cell_type": "markdown",
   "id": "45e4ae28",
   "metadata": {},
   "source": [
    "Every ndarray object provides access to a number of useful attributes."
   ]
  },
  {
   "cell_type": "code",
   "execution_count": 141,
   "id": "52662d11",
   "metadata": {},
   "outputs": [
    {
     "name": "stdout",
     "output_type": "stream",
     "text": [
      "12\n",
      "8\n",
      "1\n",
      "(12,)\n",
      "float32\n",
      "96\n"
     ]
    }
   ],
   "source": [
    "print(g.size)\n",
    "print(g.itemsize) #The number of bytes used to represent one element.\n",
    "print(g.ndim) #number of dims\n",
    "print(g.shape) #(x, y, z..)\n",
    "print(d.dtype)\n",
    "print(g.nbytes) #total number of bytes in mem"
   ]
  },
  {
   "cell_type": "markdown",
   "id": "e9eb2b6a",
   "metadata": {},
   "source": [
    "## Reshaping and Resizing"
   ]
  },
  {
   "cell_type": "code",
   "execution_count": 145,
   "id": "2c9cf401",
   "metadata": {},
   "outputs": [
    {
     "data": {
      "text/plain": [
       "array([ 0,  1,  2,  3,  4,  5,  6,  7,  8,  9, 10, 11, 12, 13, 14])"
      ]
     },
     "execution_count": 145,
     "metadata": {},
     "output_type": "execute_result"
    }
   ],
   "source": [
    "np.arange(15)\n",
    "g"
   ]
  },
  {
   "cell_type": "code",
   "execution_count": 147,
   "id": "70239fe2",
   "metadata": {},
   "outputs": [
    {
     "data": {
      "text/plain": [
       "(15,)"
      ]
     },
     "execution_count": 147,
     "metadata": {},
     "output_type": "execute_result"
    }
   ],
   "source": [
    "g.shape"
   ]
  },
  {
   "cell_type": "code",
   "execution_count": 153,
   "id": "b6b059e0",
   "metadata": {},
   "outputs": [],
   "source": [
    "h = g.reshape(5, 3)"
   ]
  },
  {
   "cell_type": "code",
   "execution_count": 154,
   "id": "25816c8e",
   "metadata": {},
   "outputs": [
    {
     "data": {
      "text/plain": [
       "array([[ 0,  1,  2],\n",
       "       [ 3,  4,  5],\n",
       "       [ 6,  7,  8],\n",
       "       [ 9, 10, 11],\n",
       "       [12, 13, 14]])"
      ]
     },
     "execution_count": 154,
     "metadata": {},
     "output_type": "execute_result"
    }
   ],
   "source": [
    "h"
   ]
  },
  {
   "cell_type": "code",
   "execution_count": 155,
   "id": "58cec6f2",
   "metadata": {},
   "outputs": [
    {
     "data": {
      "text/plain": [
       "array([[ 0,  3,  6,  9, 12],\n",
       "       [ 1,  4,  7, 10, 13],\n",
       "       [ 2,  5,  8, 11, 14]])"
      ]
     },
     "execution_count": 155,
     "metadata": {},
     "output_type": "execute_result"
    }
   ],
   "source": [
    "h.T #transposes"
   ]
  },
  {
   "cell_type": "code",
   "execution_count": 157,
   "id": "3b3f00a5",
   "metadata": {},
   "outputs": [
    {
     "data": {
      "text/plain": [
       "array([[ 0,  3,  6,  9, 12],\n",
       "       [ 1,  4,  7, 10, 13],\n",
       "       [ 2,  5,  8, 11, 14]])"
      ]
     },
     "execution_count": 157,
     "metadata": {},
     "output_type": "execute_result"
    }
   ],
   "source": [
    "h.transpose() #same transposes"
   ]
  },
  {
   "cell_type": "markdown",
   "id": "34937806",
   "metadata": {},
   "source": [
    "During a reshaping operation, the total number of elements in the ndarray object is\n",
    "unchanged. During a resizing operation, this number changes—it either decreases\n",
    "(“down-sizing”) or increases (“up-sizing”). Here some examples of resizing."
   ]
  },
  {
   "cell_type": "code",
   "execution_count": 159,
   "id": "52d4d362",
   "metadata": {},
   "outputs": [
    {
     "data": {
      "text/plain": [
       "array([[0],\n",
       "       [1],\n",
       "       [2]])"
      ]
     },
     "execution_count": 159,
     "metadata": {},
     "output_type": "execute_result"
    }
   ],
   "source": [
    "np.resize(g, (3, 1))"
   ]
  },
  {
   "cell_type": "code",
   "execution_count": 160,
   "id": "a1834bf8",
   "metadata": {},
   "outputs": [
    {
     "data": {
      "text/plain": [
       "array([[0, 1, 2, 3, 4]])"
      ]
     },
     "execution_count": 160,
     "metadata": {},
     "output_type": "execute_result"
    }
   ],
   "source": [
    "np.resize(g, (1, 5))"
   ]
  },
  {
   "cell_type": "code",
   "execution_count": 165,
   "id": "ff54b704",
   "metadata": {},
   "outputs": [
    {
     "data": {
      "text/plain": [
       "array([[ 0,  1,  2,  3,  4,  5,  6,  7,  8,  9],\n",
       "       [10, 11, 12, 13, 14,  0,  1,  2,  3,  4],\n",
       "       [ 5,  6,  7,  8,  9, 10, 11, 12, 13, 14]])"
      ]
     },
     "execution_count": 165,
     "metadata": {},
     "output_type": "execute_result"
    }
   ],
   "source": [
    "np.resize(g, (3, 10))"
   ]
  },
  {
   "cell_type": "code",
   "execution_count": 175,
   "id": "58044af1",
   "metadata": {},
   "outputs": [],
   "source": [
    "h = np.resize(g, (3, 5))\n",
    "r = np.resize(g, (3, 6))\n",
    "f = np.resize(g, (1, 5))"
   ]
  },
  {
   "cell_type": "markdown",
   "id": "20e71c3f",
   "metadata": {},
   "source": [
    "Stacking is a special operation that allows the horizontal or vertical combination of\n",
    "two ndarray objects. However, the size of the “connecting” dimension must be the\n",
    "same."
   ]
  },
  {
   "cell_type": "code",
   "execution_count": 176,
   "id": "188fc6b8",
   "metadata": {},
   "outputs": [
    {
     "data": {
      "text/plain": [
       "array([[ 0,  1,  2,  3,  4],\n",
       "       [ 5,  6,  7,  8,  9],\n",
       "       [10, 11, 12, 13, 14]])"
      ]
     },
     "execution_count": 176,
     "metadata": {},
     "output_type": "execute_result"
    }
   ],
   "source": [
    "h"
   ]
  },
  {
   "cell_type": "code",
   "execution_count": 177,
   "id": "586835de",
   "metadata": {},
   "outputs": [
    {
     "data": {
      "text/plain": [
       "array([[ 0,  1,  2,  3,  4,  5],\n",
       "       [ 6,  7,  8,  9, 10, 11],\n",
       "       [12, 13, 14,  0,  1,  2]])"
      ]
     },
     "execution_count": 177,
     "metadata": {},
     "output_type": "execute_result"
    }
   ],
   "source": [
    "r"
   ]
  },
  {
   "cell_type": "code",
   "execution_count": 178,
   "id": "0726ab7f",
   "metadata": {},
   "outputs": [
    {
     "data": {
      "text/plain": [
       "array([[0, 1, 2, 3, 4]])"
      ]
     },
     "execution_count": 178,
     "metadata": {},
     "output_type": "execute_result"
    }
   ],
   "source": [
    "f"
   ]
  },
  {
   "cell_type": "code",
   "execution_count": 171,
   "id": "ba307b31",
   "metadata": {},
   "outputs": [
    {
     "data": {
      "text/plain": [
       "array([[ 0,  1,  2,  3,  4,  0,  1,  2,  3,  4,  5],\n",
       "       [ 5,  6,  7,  8,  9,  6,  7,  8,  9, 10, 11],\n",
       "       [10, 11, 12, 13, 14, 12, 13, 14,  0,  1,  2]])"
      ]
     },
     "execution_count": 171,
     "metadata": {},
     "output_type": "execute_result"
    }
   ],
   "source": [
    "np.hstack((h, r)) #horizontally placing both side by side"
   ]
  },
  {
   "cell_type": "code",
   "execution_count": 182,
   "id": "cf6fbb73",
   "metadata": {},
   "outputs": [
    {
     "data": {
      "text/plain": [
       "array([[ 0,  1,  2,  3,  4],\n",
       "       [ 5,  6,  7,  8,  9],\n",
       "       [10, 11, 12, 13, 14],\n",
       "       [ 0,  1,  2,  3,  4]])"
      ]
     },
     "execution_count": 182,
     "metadata": {},
     "output_type": "execute_result"
    }
   ],
   "source": [
    "np.vstack((h, f)) # vertically stacking both top and bottom|"
   ]
  },
  {
   "cell_type": "markdown",
   "id": "3085a448",
   "metadata": {},
   "source": [
    "Another special operation is the flattening of a multidimensional ndarray object to a\n",
    "one-dimensional one. One can choose whether the flattening happens row-by-row (C\n",
    "order) or column-by-column (F order)."
   ]
  },
  {
   "cell_type": "code",
   "execution_count": 183,
   "id": "f2ffe72f",
   "metadata": {},
   "outputs": [
    {
     "data": {
      "text/plain": [
       "array([[ 0,  1,  2,  3,  4],\n",
       "       [ 5,  6,  7,  8,  9],\n",
       "       [10, 11, 12, 13, 14]])"
      ]
     },
     "execution_count": 183,
     "metadata": {},
     "output_type": "execute_result"
    }
   ],
   "source": [
    "h"
   ]
  },
  {
   "cell_type": "code",
   "execution_count": 184,
   "id": "c182b076",
   "metadata": {},
   "outputs": [
    {
     "data": {
      "text/plain": [
       "array([ 0,  1,  2,  3,  4,  5,  6,  7,  8,  9, 10, 11, 12, 13, 14])"
      ]
     },
     "execution_count": 184,
     "metadata": {},
     "output_type": "execute_result"
    }
   ],
   "source": [
    "h.flatten() #by default row-by-row"
   ]
  },
  {
   "cell_type": "code",
   "execution_count": 185,
   "id": "55b30d17",
   "metadata": {},
   "outputs": [
    {
     "data": {
      "text/plain": [
       "array([ 0,  1,  2,  3,  4,  5,  6,  7,  8,  9, 10, 11, 12, 13, 14])"
      ]
     },
     "execution_count": 185,
     "metadata": {},
     "output_type": "execute_result"
    }
   ],
   "source": [
    "h.flatten(order='C')"
   ]
  },
  {
   "cell_type": "code",
   "execution_count": 186,
   "id": "74b511e5",
   "metadata": {},
   "outputs": [
    {
     "data": {
      "text/plain": [
       "array([ 0,  5, 10,  1,  6, 11,  2,  7, 12,  3,  8, 13,  4,  9, 14])"
      ]
     },
     "execution_count": 186,
     "metadata": {},
     "output_type": "execute_result"
    }
   ],
   "source": [
    "h.flatten(order='F')"
   ]
  },
  {
   "cell_type": "code",
   "execution_count": 187,
   "id": "f292b9f0",
   "metadata": {},
   "outputs": [
    {
     "name": "stdout",
     "output_type": "stream",
     "text": [
      "0, 1, 2, 3, 4, 5, 6, 7, 8, 9, 10, 11, 12, 13, 14, "
     ]
    }
   ],
   "source": [
    "for i in h.flat: #the flat attribute provides a flat iterator (C order)\n",
    "    print(i, end=', ')\n"
   ]
  },
  {
   "cell_type": "code",
   "execution_count": 188,
   "id": "643bfa19",
   "metadata": {},
   "outputs": [
    {
     "name": "stdout",
     "output_type": "stream",
     "text": [
      "0, 5, 10, 1, 6, 11, 2, 7, 12, 3, 8, 13, 4, 9, 14, "
     ]
    }
   ],
   "source": [
    "for j in h.ravel(order='F'): #this ravel() method is an alternative to flatten()\n",
    "    print(j, end=', ')"
   ]
  },
  {
   "cell_type": "markdown",
   "id": "4abda867",
   "metadata": {},
   "source": [
    "## Boolean Arrays"
   ]
  },
  {
   "cell_type": "markdown",
   "id": "654fc777",
   "metadata": {},
   "source": [
    "Comparison and logical operations in general work on ndarray objects the same way,\n",
    "element-wise, as on standard Python data types."
   ]
  },
  {
   "cell_type": "code",
   "execution_count": 189,
   "id": "20c00490",
   "metadata": {},
   "outputs": [
    {
     "data": {
      "text/plain": [
       "array([[ 0,  1,  2,  3,  4],\n",
       "       [ 5,  6,  7,  8,  9],\n",
       "       [10, 11, 12, 13, 14]])"
      ]
     },
     "execution_count": 189,
     "metadata": {},
     "output_type": "execute_result"
    }
   ],
   "source": [
    "h"
   ]
  },
  {
   "cell_type": "code",
   "execution_count": 191,
   "id": "a1a9effc",
   "metadata": {},
   "outputs": [
    {
     "data": {
      "text/plain": [
       "array([[False, False, False, False, False],\n",
       "       [False, False, False, False,  True],\n",
       "       [ True,  True,  True,  True,  True]])"
      ]
     },
     "execution_count": 191,
     "metadata": {},
     "output_type": "execute_result"
    }
   ],
   "source": [
    "h > 8"
   ]
  },
  {
   "cell_type": "code",
   "execution_count": 192,
   "id": "98154127",
   "metadata": {},
   "outputs": [
    {
     "data": {
      "text/plain": [
       "array([[ True,  True,  True,  True,  True],\n",
       "       [ True,  True,  True, False, False],\n",
       "       [False, False, False, False, False]])"
      ]
     },
     "execution_count": 192,
     "metadata": {},
     "output_type": "execute_result"
    }
   ],
   "source": [
    "h <= 7"
   ]
  },
  {
   "cell_type": "code",
   "execution_count": 194,
   "id": "ea5615bc",
   "metadata": {},
   "outputs": [
    {
     "data": {
      "text/plain": [
       "array([[0, 0, 0, 0, 0],\n",
       "       [1, 0, 0, 0, 0],\n",
       "       [0, 0, 0, 0, 0]])"
      ]
     },
     "execution_count": 194,
     "metadata": {},
     "output_type": "execute_result"
    }
   ],
   "source": [
    "(h == 5).astype(int) # Present True and False as integer values 0 and 1"
   ]
  },
  {
   "cell_type": "code",
   "execution_count": 195,
   "id": "19a90c5e",
   "metadata": {},
   "outputs": [
    {
     "data": {
      "text/plain": [
       "array([[False, False, False, False, False],\n",
       "       [ True,  True,  True,  True,  True],\n",
       "       [ True,  True,  True, False, False]])"
      ]
     },
     "execution_count": 195,
     "metadata": {},
     "output_type": "execute_result"
    }
   ],
   "source": [
    "(h > 4) & (h <= 12)"
   ]
  },
  {
   "cell_type": "markdown",
   "id": "1bb65f72",
   "metadata": {},
   "source": [
    "Such Boolean arrays can be used for indexing and data selection. Notice that the following operations flatten the data."
   ]
  },
  {
   "cell_type": "code",
   "execution_count": 196,
   "id": "6ec5dc1f",
   "metadata": {},
   "outputs": [
    {
     "data": {
      "text/plain": [
       "array([ 9, 10, 11, 12, 13, 14])"
      ]
     },
     "execution_count": 196,
     "metadata": {},
     "output_type": "execute_result"
    }
   ],
   "source": [
    "h[h > 8]"
   ]
  },
  {
   "cell_type": "code",
   "execution_count": 197,
   "id": "1eed73ab",
   "metadata": {},
   "outputs": [
    {
     "data": {
      "text/plain": [
       "array([ 5,  6,  7,  8,  9, 10, 11, 12])"
      ]
     },
     "execution_count": 197,
     "metadata": {},
     "output_type": "execute_result"
    }
   ],
   "source": [
    "h[(h > 4) & ( h<= 12)]"
   ]
  },
  {
   "cell_type": "code",
   "execution_count": 199,
   "id": "d50dc292",
   "metadata": {},
   "outputs": [
    {
     "data": {
      "text/plain": [
       "array([ 0,  1,  2,  3, 12, 13, 14])"
      ]
     },
     "execution_count": 199,
     "metadata": {},
     "output_type": "execute_result"
    }
   ],
   "source": [
    "h[(h < 4) | (h >= 12)]"
   ]
  },
  {
   "cell_type": "markdown",
   "id": "1874cd55",
   "metadata": {},
   "source": [
    "A powerful tool in this regard is the np.where() function, which allows the definition\n",
    "of actions/operations depending on whether a condition is True or False. The result\n",
    "of applying np.where() is a new ndarray object of the same shape as the original one."
   ]
  },
  {
   "cell_type": "code",
   "execution_count": 200,
   "id": "a3cc24f6",
   "metadata": {},
   "outputs": [
    {
     "data": {
      "text/plain": [
       "array([[0, 0, 0, 0, 0],\n",
       "       [0, 0, 0, 1, 1],\n",
       "       [1, 1, 1, 1, 1]])"
      ]
     },
     "execution_count": 200,
     "metadata": {},
     "output_type": "execute_result"
    }
   ],
   "source": [
    "np.where(h > 7, 1, 0)"
   ]
  },
  {
   "cell_type": "code",
   "execution_count": 201,
   "id": "9669abb0",
   "metadata": {},
   "outputs": [
    {
     "data": {
      "text/plain": [
       "array([['even', 'odd', 'even', 'odd', 'even'],\n",
       "       ['odd', 'even', 'odd', 'even', 'odd'],\n",
       "       ['even', 'odd', 'even', 'odd', 'even']], dtype='<U4')"
      ]
     },
     "execution_count": 201,
     "metadata": {},
     "output_type": "execute_result"
    }
   ],
   "source": [
    "np.where(h%2 == 0, 'even', 'odd')"
   ]
  },
  {
   "cell_type": "code",
   "execution_count": 204,
   "id": "084531c5",
   "metadata": {},
   "outputs": [
    {
     "data": {
      "text/plain": [
       "array([[0, 1, 2, 3, 4],\n",
       "       [5, 6, 7, 1, 2],\n",
       "       [3, 4, 5, 6, 7]])"
      ]
     },
     "execution_count": 204,
     "metadata": {},
     "output_type": "execute_result"
    }
   ],
   "source": [
    "np.where(h <= 7, h, h-7)"
   ]
  },
  {
   "cell_type": "markdown",
   "id": "4944d124",
   "metadata": {},
   "source": [
    "## Speed Comparison "
   ]
  },
  {
   "cell_type": "code",
   "execution_count": 215,
   "id": "ab9f8288",
   "metadata": {},
   "outputs": [
    {
     "name": "stdout",
     "output_type": "stream",
     "text": [
      "CPU times: user 10.5 s, sys: 1.48 s, total: 11.9 s\n",
      "Wall time: 12.9 s\n"
     ]
    }
   ],
   "source": [
    "import random\n",
    "I = 5000\n",
    "\n",
    "%time mat = [[random.gauss(0, 1) for j in range(I)] for i in range(I)]"
   ]
  },
  {
   "cell_type": "code",
   "execution_count": 218,
   "id": "5e0babb1",
   "metadata": {},
   "outputs": [
    {
     "data": {
      "text/plain": [
       "[0.5919640104629647,\n",
       " 0.0920696364000629,\n",
       " 1.2420580712924127,\n",
       " 0.30792034887759984,\n",
       " -0.26537041805866757]"
      ]
     },
     "execution_count": 218,
     "metadata": {},
     "output_type": "execute_result"
    }
   ],
   "source": [
    "mat[0][:5]"
   ]
  },
  {
   "cell_type": "code",
   "execution_count": 228,
   "id": "317eb082",
   "metadata": {},
   "outputs": [
    {
     "name": "stderr",
     "output_type": "stream",
     "text": [
      "<timed eval>:1: DeprecationWarning: Calling np.sum(generator) is deprecated, and in the future will give a different result. Use np.sum(np.fromiter(generator)) or the python sum builtin instead.\n"
     ]
    },
    {
     "name": "stdout",
     "output_type": "stream",
     "text": [
      "CPU times: user 897 ms, sys: 337 ms, total: 1.23 s\n",
      "Wall time: 1.42 s\n"
     ]
    },
    {
     "data": {
      "text/plain": [
       "np.float64(-178.50063992055544)"
      ]
     },
     "execution_count": 228,
     "metadata": {},
     "output_type": "execute_result"
    }
   ],
   "source": [
    "%time np.sum(np.sum(l) for l in mat)"
   ]
  },
  {
   "cell_type": "code",
   "execution_count": 230,
   "id": "ffaf9f92",
   "metadata": {},
   "outputs": [
    {
     "data": {
      "text/plain": [
       "np.int64(209400000)"
      ]
     },
     "execution_count": 230,
     "metadata": {},
     "output_type": "execute_result"
    }
   ],
   "source": [
    "import sys\n",
    "np.sum([sys.getsizeof(l) for l in mat])"
   ]
  },
  {
   "cell_type": "code",
   "execution_count": 233,
   "id": "7da23df3",
   "metadata": {},
   "outputs": [
    {
     "name": "stdout",
     "output_type": "stream",
     "text": [
      "CPU times: user 464 ms, sys: 22.4 ms, total: 487 ms\n",
      "Wall time: 488 ms\n"
     ]
    }
   ],
   "source": [
    "%time mat = np.random.standard_normal((I, I))"
   ]
  },
  {
   "cell_type": "code",
   "execution_count": 234,
   "id": "8c7fb2b3",
   "metadata": {},
   "outputs": [
    {
     "name": "stdout",
     "output_type": "stream",
     "text": [
      "CPU times: user 17.7 ms, sys: 36.5 ms, total: 54.2 ms\n",
      "Wall time: 55.8 ms\n"
     ]
    },
    {
     "data": {
      "text/plain": [
       "np.float64(-6242.784867715764)"
      ]
     },
     "execution_count": 234,
     "metadata": {},
     "output_type": "execute_result"
    }
   ],
   "source": [
    "%time mat.sum()"
   ]
  },
  {
   "cell_type": "code",
   "execution_count": 235,
   "id": "a3466503",
   "metadata": {},
   "outputs": [
    {
     "data": {
      "text/plain": [
       "200000000"
      ]
     },
     "execution_count": 235,
     "metadata": {},
     "output_type": "execute_result"
    }
   ],
   "source": [
    "mat.nbytes"
   ]
  },
  {
   "cell_type": "code",
   "execution_count": 236,
   "id": "5fe2e8b8",
   "metadata": {},
   "outputs": [
    {
     "data": {
      "text/plain": [
       "200000128"
      ]
     },
     "execution_count": 236,
     "metadata": {},
     "output_type": "execute_result"
    }
   ],
   "source": [
    "sys.getsizeof(mat)"
   ]
  },
  {
   "cell_type": "markdown",
   "id": "18273d7e",
   "metadata": {},
   "source": [
    "The use of NumPy for array-based operations and algorithms generally results in compact, easily readable code and significant performance improvements over pure Python code."
   ]
  },
  {
   "cell_type": "markdown",
   "id": "37e54345",
   "metadata": {},
   "source": [
    "# Structured NumPy Arrays"
   ]
  },
  {
   "cell_type": "markdown",
   "id": "209504cd",
   "metadata": {},
   "source": [
    "NumPy provides structured ndarray and record recarray objects that allow you to\n",
    "have a different dtype per column."
   ]
  },
  {
   "cell_type": "code",
   "execution_count": 238,
   "id": "e2ac9f2a",
   "metadata": {},
   "outputs": [
    {
     "data": {
      "text/plain": [
       "dtype([('Name', 'S10'), ('Age', '<i4'), ('Height', '<f4'), ('Children/Pets', '<i4', (2,))])"
      ]
     },
     "execution_count": 238,
     "metadata": {},
     "output_type": "execute_result"
    }
   ],
   "source": [
    "dt = np.dtype([('Name', 'S10'), ('Age', 'i4'), ('Height', 'f'), ('Children/Pets', 'i4', 2)])\n",
    "dt"
   ]
  },
  {
   "cell_type": "code",
   "execution_count": 240,
   "id": "30908e30",
   "metadata": {},
   "outputs": [
    {
     "data": {
      "text/plain": [
       "dtype([('Name', 'O'), ('Age', '<i8'), ('Height', '<f8'), ('Children/Pets', [('f0', '<i8'), ('f1', '<i8')])])"
      ]
     },
     "execution_count": 240,
     "metadata": {},
     "output_type": "execute_result"
    }
   ],
   "source": [
    "dt = np.dtype({'names': ['Name', 'Age', 'Height', 'Children/Pets'],\n",
    "               'formats':'O int float int,int'.split()})\n",
    "dt #this is an alternative method of doing the same"
   ]
  },
  {
   "cell_type": "code",
   "execution_count": 247,
   "id": "b19d115d",
   "metadata": {},
   "outputs": [],
   "source": [
    "s = np.array([('Dhairya', 20, 1.78, (0, 2)),\n",
    "              ('Shivam', 21, 1.80, (0,0))], dtype=dt)"
   ]
  },
  {
   "cell_type": "code",
   "execution_count": 250,
   "id": "c2592dac",
   "metadata": {},
   "outputs": [
    {
     "name": "stdout",
     "output_type": "stream",
     "text": [
      "[('Dhairya', 20, 1.78, (0, 2)) ('Shivam', 21, 1.8 , (0, 0))]\n",
      "<class 'numpy.ndarray'>\n"
     ]
    }
   ],
   "source": [
    "print(s)\n",
    "print(type(s))"
   ]
  },
  {
   "cell_type": "markdown",
   "id": "4bc478eb",
   "metadata": {},
   "source": [
    "The single columns can now be easily accessed by their names and the rows by their index values."
   ]
  },
  {
   "cell_type": "code",
   "execution_count": 251,
   "id": "cd7732b9",
   "metadata": {},
   "outputs": [
    {
     "data": {
      "text/plain": [
       "array(['Dhairya', 'Shivam'], dtype=object)"
      ]
     },
     "execution_count": 251,
     "metadata": {},
     "output_type": "execute_result"
    }
   ],
   "source": [
    "s['Name']"
   ]
  },
  {
   "cell_type": "code",
   "execution_count": 255,
   "id": "6bcb1509",
   "metadata": {},
   "outputs": [
    {
     "name": "stdout",
     "output_type": "stream",
     "text": [
      "1.79\n"
     ]
    }
   ],
   "source": [
    "print(s['Height'].mean())"
   ]
  },
  {
   "cell_type": "code",
   "execution_count": 256,
   "id": "97525531",
   "metadata": {},
   "outputs": [
    {
     "name": "stdout",
     "output_type": "stream",
     "text": [
      "('Dhairya', 20, 1.78, (0, 2))\n"
     ]
    }
   ],
   "source": [
    "print(s[0])"
   ]
  },
  {
   "cell_type": "code",
   "execution_count": 257,
   "id": "761f1b34",
   "metadata": {},
   "outputs": [
    {
     "name": "stdout",
     "output_type": "stream",
     "text": [
      "21\n"
     ]
    }
   ],
   "source": [
    "print(s[1]['Age'])"
   ]
  },
  {
   "cell_type": "markdown",
   "id": "0ab4e93a",
   "metadata": {},
   "source": [
    "One advantage of structured arrays is that a single element of a column can be\n",
    "another multidimensional object and does not have to conform to the basic NumPy\n",
    "data types."
   ]
  },
  {
   "cell_type": "markdown",
   "id": "cd0617f4",
   "metadata": {},
   "source": [
    "# Vectorization of Code"
   ]
  },
  {
   "cell_type": "markdown",
   "id": "48359c06",
   "metadata": {},
   "source": [
    "Vectorization is a strategy to get more compact code that is possibly executed faster.\n",
    "The fundamental idea is to conduct an operation on or to apply a function to a complex object “at once” and not by looping over the single elements of the object. In Python, functional programming tools such as map() and filter() provide some basic means for vectorization. However, NumPy has vectorization built in deep down in its core."
   ]
  },
  {
   "cell_type": "markdown",
   "id": "75d57a5e",
   "metadata": {},
   "source": [
    "## Basic Vectorization"
   ]
  },
  {
   "cell_type": "code",
   "execution_count": 258,
   "id": "785313fc",
   "metadata": {},
   "outputs": [],
   "source": [
    "np.random.seed(100)\n",
    "r = np.arange(12).reshape((4, 3))\n",
    "s = np.arange(12).reshape((4, 3))*0.5"
   ]
  },
  {
   "cell_type": "code",
   "execution_count": 259,
   "id": "17063d59",
   "metadata": {},
   "outputs": [
    {
     "data": {
      "text/plain": [
       "array([[ 0,  1,  2],\n",
       "       [ 3,  4,  5],\n",
       "       [ 6,  7,  8],\n",
       "       [ 9, 10, 11]])"
      ]
     },
     "execution_count": 259,
     "metadata": {},
     "output_type": "execute_result"
    }
   ],
   "source": [
    "r"
   ]
  },
  {
   "cell_type": "code",
   "execution_count": 260,
   "id": "f7efe08a",
   "metadata": {},
   "outputs": [
    {
     "data": {
      "text/plain": [
       "array([[0. , 0.5, 1. ],\n",
       "       [1.5, 2. , 2.5],\n",
       "       [3. , 3.5, 4. ],\n",
       "       [4.5, 5. , 5.5]])"
      ]
     },
     "execution_count": 260,
     "metadata": {},
     "output_type": "execute_result"
    }
   ],
   "source": [
    "s"
   ]
  },
  {
   "cell_type": "code",
   "execution_count": 261,
   "id": "8fa5f0df",
   "metadata": {},
   "outputs": [
    {
     "data": {
      "text/plain": [
       "array([[ 0. ,  1.5,  3. ],\n",
       "       [ 4.5,  6. ,  7.5],\n",
       "       [ 9. , 10.5, 12. ],\n",
       "       [13.5, 15. , 16.5]])"
      ]
     },
     "execution_count": 261,
     "metadata": {},
     "output_type": "execute_result"
    }
   ],
   "source": [
    "r + s"
   ]
  },
  {
   "cell_type": "code",
   "execution_count": 262,
   "id": "288670af",
   "metadata": {},
   "outputs": [
    {
     "data": {
      "text/plain": [
       "array([[ 3,  4,  5],\n",
       "       [ 6,  7,  8],\n",
       "       [ 9, 10, 11],\n",
       "       [12, 13, 14]])"
      ]
     },
     "execution_count": 262,
     "metadata": {},
     "output_type": "execute_result"
    }
   ],
   "source": [
    "r + 3"
   ]
  },
  {
   "cell_type": "code",
   "execution_count": 263,
   "id": "a1107f7f",
   "metadata": {},
   "outputs": [
    {
     "data": {
      "text/plain": [
       "array([[ 0,  2,  4],\n",
       "       [ 6,  8, 10],\n",
       "       [12, 14, 16],\n",
       "       [18, 20, 22]])"
      ]
     },
     "execution_count": 263,
     "metadata": {},
     "output_type": "execute_result"
    }
   ],
   "source": [
    "2 * r"
   ]
  },
  {
   "cell_type": "code",
   "execution_count": 264,
   "id": "7253d41d",
   "metadata": {},
   "outputs": [
    {
     "data": {
      "text/plain": [
       "array([[ 3,  5,  7],\n",
       "       [ 9, 11, 13],\n",
       "       [15, 17, 19],\n",
       "       [21, 23, 25]])"
      ]
     },
     "execution_count": 264,
     "metadata": {},
     "output_type": "execute_result"
    }
   ],
   "source": [
    "2*r + 3"
   ]
  },
  {
   "cell_type": "code",
   "execution_count": 266,
   "id": "6ebd3741",
   "metadata": {},
   "outputs": [
    {
     "data": {
      "text/plain": [
       "array([0, 4, 8])"
      ]
     },
     "execution_count": 266,
     "metadata": {},
     "output_type": "execute_result"
    }
   ],
   "source": [
    "s = np.arange(0,12,4)\n",
    "s"
   ]
  },
  {
   "cell_type": "code",
   "execution_count": 268,
   "id": "df19ab1d",
   "metadata": {},
   "outputs": [
    {
     "data": {
      "text/plain": [
       "array([[ 0,  1,  2],\n",
       "       [ 3,  4,  5],\n",
       "       [ 6,  7,  8],\n",
       "       [ 9, 10, 11]])"
      ]
     },
     "execution_count": 268,
     "metadata": {},
     "output_type": "execute_result"
    }
   ],
   "source": [
    "r"
   ]
  },
  {
   "cell_type": "code",
   "execution_count": 267,
   "id": "9ecafb98",
   "metadata": {},
   "outputs": [
    {
     "data": {
      "text/plain": [
       "array([[ 0,  5, 10],\n",
       "       [ 3,  8, 13],\n",
       "       [ 6, 11, 16],\n",
       "       [ 9, 14, 19]])"
      ]
     },
     "execution_count": 267,
     "metadata": {},
     "output_type": "execute_result"
    }
   ],
   "source": [
    "r + s"
   ]
  },
  {
   "cell_type": "code",
   "execution_count": 270,
   "id": "08b2e093",
   "metadata": {},
   "outputs": [
    {
     "ename": "ValueError",
     "evalue": "operands could not be broadcast together with shapes (4,3) (4,) ",
     "output_type": "error",
     "traceback": [
      "\u001b[31m---------------------------------------------------------------------------\u001b[39m",
      "\u001b[31mValueError\u001b[39m                                Traceback (most recent call last)",
      "\u001b[36mCell\u001b[39m\u001b[36m \u001b[39m\u001b[32mIn[270]\u001b[39m\u001b[32m, line 2\u001b[39m\n\u001b[32m      1\u001b[39m s = np.arange(\u001b[32m0\u001b[39m, \u001b[32m12\u001b[39m, \u001b[32m3\u001b[39m)\n\u001b[32m----> \u001b[39m\u001b[32m2\u001b[39m \u001b[43mr\u001b[49m\u001b[43m \u001b[49m\u001b[43m+\u001b[49m\u001b[43m \u001b[49m\u001b[43ms\u001b[49m\n",
      "\u001b[31mValueError\u001b[39m: operands could not be broadcast together with shapes (4,3) (4,) "
     ]
    }
   ],
   "source": [
    "s = np.arange(0, 12, 3)\n",
    "r + s"
   ]
  },
  {
   "cell_type": "code",
   "execution_count": 271,
   "id": "f22cd111",
   "metadata": {},
   "outputs": [
    {
     "data": {
      "text/plain": [
       "array([0, 3, 6, 9])"
      ]
     },
     "execution_count": 271,
     "metadata": {},
     "output_type": "execute_result"
    }
   ],
   "source": [
    "s"
   ]
  },
  {
   "cell_type": "code",
   "execution_count": 273,
   "id": "26c076dc",
   "metadata": {},
   "outputs": [
    {
     "data": {
      "text/plain": [
       "array([[ 0,  6, 12, 18],\n",
       "       [ 1,  7, 13, 19],\n",
       "       [ 2,  8, 14, 20]])"
      ]
     },
     "execution_count": 273,
     "metadata": {},
     "output_type": "execute_result"
    }
   ],
   "source": [
    "r.T + s"
   ]
  },
  {
   "cell_type": "code",
   "execution_count": 278,
   "id": "1c451a85",
   "metadata": {},
   "outputs": [
    {
     "data": {
      "text/plain": [
       "(4, 1)"
      ]
     },
     "execution_count": 278,
     "metadata": {},
     "output_type": "execute_result"
    }
   ],
   "source": [
    "sr = s.reshape(-1, 1) #make 1*4 into 4*1\n",
    "sr.shape"
   ]
  },
  {
   "cell_type": "code",
   "execution_count": 279,
   "id": "56d4682c",
   "metadata": {},
   "outputs": [
    {
     "data": {
      "text/plain": [
       "array([[ 0,  1,  2],\n",
       "       [ 6,  7,  8],\n",
       "       [12, 13, 14],\n",
       "       [18, 19, 20]])"
      ]
     },
     "execution_count": 279,
     "metadata": {},
     "output_type": "execute_result"
    }
   ],
   "source": [
    "r + sr"
   ]
  },
  {
   "cell_type": "markdown",
   "id": "6ef073d8",
   "metadata": {},
   "source": [
    "Often, custom-defined Python functions work with ndarray objects as well. If the\n",
    "implementation allows, arrays can be used with functions just as int or float objects\n",
    "can."
   ]
  },
  {
   "cell_type": "code",
   "execution_count": 280,
   "id": "4b700034",
   "metadata": {},
   "outputs": [],
   "source": [
    "def f(x):\n",
    "    return 3*x + 5"
   ]
  },
  {
   "cell_type": "code",
   "execution_count": 281,
   "id": "36470e9e",
   "metadata": {},
   "outputs": [
    {
     "data": {
      "text/plain": [
       "6.5"
      ]
     },
     "execution_count": 281,
     "metadata": {},
     "output_type": "execute_result"
    }
   ],
   "source": [
    "f(0.5)"
   ]
  },
  {
   "cell_type": "code",
   "execution_count": 282,
   "id": "80883a73",
   "metadata": {},
   "outputs": [
    {
     "data": {
      "text/plain": [
       "array([[ 5,  8, 11],\n",
       "       [14, 17, 20],\n",
       "       [23, 26, 29],\n",
       "       [32, 35, 38]])"
      ]
     },
     "execution_count": 282,
     "metadata": {},
     "output_type": "execute_result"
    }
   ],
   "source": [
    "f(r)"
   ]
  },
  {
   "cell_type": "markdown",
   "id": "78a1ea6c",
   "metadata": {},
   "source": [
    "On the NumPy level, looping\n",
    "over the ndarray object is taken care of by optimized code, most of it written in C\n",
    "and therefore generally faster than pure Python. This explains the \"secret\" behind\n",
    "the performance benefits of using NumPy for array-based use cases."
   ]
  },
  {
   "cell_type": "markdown",
   "id": "52654ef9",
   "metadata": {},
   "source": [
    "## Memory Layout"
   ]
  },
  {
   "cell_type": "markdown",
   "id": "5c52e51c",
   "metadata": {},
   "source": [
    "An optional argument for the memory layout is provided. This\n",
    "argument specifies, roughly speaking, which elements of an array get stored in memory next to each other (contiguously). When working with small arrays, this has\n",
    "hardly any measurable impact on the performance of array operations. However,\n",
    "when arrays get large, and depending on the (financial) algorithm to be implemented\n",
    "on them, the story might be different. This is when memory layout comes into play"
   ]
  },
  {
   "cell_type": "code",
   "execution_count": 298,
   "id": "9cb0e24b",
   "metadata": {},
   "outputs": [],
   "source": [
    "x = np.random.standard_normal((1000000, 5))\n",
    "y = 2*x + 3\n",
    "C = np.array((x, y), order='C')\n",
    "F = np.array((x, y), order='F')"
   ]
  },
  {
   "cell_type": "code",
   "execution_count": 314,
   "id": "b068017e",
   "metadata": {},
   "outputs": [
    {
     "name": "stdout",
     "output_type": "stream",
     "text": [
      "10.6 ms ± 1.89 ms per loop (mean ± std. dev. of 7 runs, 100 loops each)\n",
      "18.4 ms ± 389 μs per loop (mean ± std. dev. of 7 runs, 100 loops each)\n",
      "43 ms ± 128 μs per loop (mean ± std. dev. of 7 runs, 10 loops each)\n",
      "37 ms ± 13.8 μs per loop (mean ± std. dev. of 7 runs, 10 loops each)\n"
     ]
    }
   ],
   "source": [
    "%timeit C.sum(axis=0)\n",
    "%timeit C.sum(axis=1)\n",
    "%timeit F.sum(axis=0)\n",
    "%timeit F.sum(axis=1)"
   ]
  }
 ],
 "metadata": {
  "kernelspec": {
   "display_name": "new_env",
   "language": "python",
   "name": "python3"
  },
  "language_info": {
   "codemirror_mode": {
    "name": "ipython",
    "version": 3
   },
   "file_extension": ".py",
   "mimetype": "text/x-python",
   "name": "python",
   "nbconvert_exporter": "python",
   "pygments_lexer": "ipython3",
   "version": "3.12.7"
  }
 },
 "nbformat": 4,
 "nbformat_minor": 5
}
