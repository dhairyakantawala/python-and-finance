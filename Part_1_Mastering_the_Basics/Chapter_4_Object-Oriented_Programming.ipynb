{
 "cells": [
  {
   "cell_type": "markdown",
   "id": "10462844",
   "metadata": {},
   "source": [
    "The purpose of software engineering is to control complexity, not to create it.\n",
    "—Pamela Zave"
   ]
  },
  {
   "cell_type": "markdown",
   "id": "f0a6e3b7",
   "metadata": {},
   "source": [
    "In many cases, OOP seems to be particularly\n",
    "suited for financial modeling and implementing financial algorithms."
   ]
  },
  {
   "cell_type": "markdown",
   "id": "8dbb1162",
   "metadata": {},
   "source": [
    "| Term | Definition | Example |\n",
    "|------|------------|---------|\n",
    "| Class | An abstract definition of a certain type of objects | Human being |\n",
    "| Object | An instance of a class | Sandra |\n",
    "| Attribute | A feature of the class (class attribute) or of an instance of the class | Being a mammal, being male/female, color of eyes |\n",
    "| Method | An operation that the class or an instance of the class can implement | Walking |\n",
    "| Parameters | Input taken by a method to influence its behavior | Three steps |\n",
    "| Instantiation | The process of creating a specific object based on an abstract class | Creating a specific human instance |\n"
   ]
  },
  {
   "cell_type": "code",
   "execution_count": 2,
   "id": "2d8845d2",
   "metadata": {},
   "outputs": [],
   "source": [
    "class HumanBeing(object):\n",
    "    def __init__(self, first_name, eye_color):\n",
    "        self.first_name = first_name\n",
    "        self.eye_color = eye_color\n",
    "        self.position = 0\n",
    "    def walk_steps(self, steps):\n",
    "        self.position += steps"
   ]
  },
  {
   "cell_type": "code",
   "execution_count": 11,
   "id": "6b725059",
   "metadata": {},
   "outputs": [],
   "source": [
    "dhairya = HumanBeing('dhairya', 'brown')"
   ]
  },
  {
   "cell_type": "code",
   "execution_count": 13,
   "id": "fdb47743",
   "metadata": {},
   "outputs": [
    {
     "name": "stdout",
     "output_type": "stream",
     "text": [
      "dhairya\n",
      "0\n",
      "10\n"
     ]
    }
   ],
   "source": [
    "print(dhairya.first_name)\n",
    "print(dhairya.position)\n",
    "dhairya.walk_steps(10)\n",
    "print(dhairya.position)"
   ]
  },
  {
   "cell_type": "markdown",
   "id": "08de9ccb",
   "metadata": {},
   "source": [
    "# A Look at Python Objects"
   ]
  },
  {
   "cell_type": "markdown",
   "id": "9eeaf984",
   "metadata": {},
   "source": [
    "Let’s start by taking a brief look at some standard objects encountered in previous\n",
    "chapters through the eyes of an OOP programmer."
   ]
  },
  {
   "cell_type": "markdown",
   "id": "e727877c",
   "metadata": {},
   "source": [
    "## int"
   ]
  },
  {
   "cell_type": "code",
   "execution_count": 17,
   "id": "a06e56ae",
   "metadata": {},
   "outputs": [
    {
     "name": "stdout",
     "output_type": "stream",
     "text": [
      "<class 'int'>\n",
      "5\n",
      "3\n",
      "28\n"
     ]
    }
   ],
   "source": [
    "n = 5\n",
    "print(type(n))\n",
    "print(n.numerator)\n",
    "print(n.bit_length())\n",
    "print(n.__sizeof__())"
   ]
  },
  {
   "cell_type": "markdown",
   "id": "48c0eab8",
   "metadata": {},
   "source": [
    "## list"
   ]
  },
  {
   "cell_type": "code",
   "execution_count": 19,
   "id": "016b1245",
   "metadata": {},
   "outputs": [
    {
     "name": "stdout",
     "output_type": "stream",
     "text": [
      "<class 'list'>\n",
      "0\n",
      "110\n",
      "168\n",
      "[0, 2, 4, 6, 8, 10, 12, 14, 16, 18, 20]\n"
     ]
    }
   ],
   "source": [
    "l = [2*i for i in range(10)]\n",
    "print(type(l))\n",
    "print(l[0])\n",
    "l.append(20)\n",
    "print(sum(l))\n",
    "print(l.__sizeof__())\n",
    "print(l)"
   ]
  },
  {
   "cell_type": "markdown",
   "id": "5da5d89e",
   "metadata": {},
   "source": [
    "## ndarray"
   ]
  },
  {
   "cell_type": "markdown",
   "id": "32b475a6",
   "metadata": {},
   "source": [
    "int and list objects are standard Python objects. The NumPy ndarray object is a\n",
    "“custom-made” object from an open source package."
   ]
  },
  {
   "cell_type": "code",
   "execution_count": 21,
   "id": "647ecda4",
   "metadata": {},
   "outputs": [
    {
     "name": "stdout",
     "output_type": "stream",
     "text": [
      "[[ 0  1  2  3]\n",
      " [ 4  5  6  7]\n",
      " [ 8  9 10 11]\n",
      " [12 13 14 15]]\n",
      "<class 'numpy.ndarray'>\n"
     ]
    }
   ],
   "source": [
    "import numpy as np\n",
    "a = np.arange(16).reshape(4, 4)\n",
    "print(a)\n",
    "print(type(a))"
   ]
  },
  {
   "cell_type": "code",
   "execution_count": 23,
   "id": "349c63b9",
   "metadata": {},
   "outputs": [
    {
     "name": "stdout",
     "output_type": "stream",
     "text": [
      "128\n",
      "120\n",
      "[[ 0  1  2  3]\n",
      " [ 4  6  8 10]\n",
      " [12 15 18 21]\n",
      " [24 28 32 36]]\n",
      "128\n"
     ]
    }
   ],
   "source": [
    "print(a.nbytes)\n",
    "print(a.sum())\n",
    "print(a.cumsum(axis=0))\n",
    "print(a.__sizeof__())"
   ]
  },
  {
   "cell_type": "markdown",
   "id": "c86f3222",
   "metadata": {},
   "source": [
    "## DataFrame"
   ]
  },
  {
   "cell_type": "code",
   "execution_count": 24,
   "id": "f50b6152",
   "metadata": {},
   "outputs": [
    {
     "data": {
      "text/html": [
       "<div>\n",
       "<style scoped>\n",
       "    .dataframe tbody tr th:only-of-type {\n",
       "        vertical-align: middle;\n",
       "    }\n",
       "\n",
       "    .dataframe tbody tr th {\n",
       "        vertical-align: top;\n",
       "    }\n",
       "\n",
       "    .dataframe thead th {\n",
       "        text-align: right;\n",
       "    }\n",
       "</style>\n",
       "<table border=\"1\" class=\"dataframe\">\n",
       "  <thead>\n",
       "    <tr style=\"text-align: right;\">\n",
       "      <th></th>\n",
       "      <th>a</th>\n",
       "      <th>b</th>\n",
       "      <th>c</th>\n",
       "      <th>d</th>\n",
       "    </tr>\n",
       "  </thead>\n",
       "  <tbody>\n",
       "    <tr>\n",
       "      <th>0</th>\n",
       "      <td>0</td>\n",
       "      <td>1</td>\n",
       "      <td>2</td>\n",
       "      <td>3</td>\n",
       "    </tr>\n",
       "    <tr>\n",
       "      <th>1</th>\n",
       "      <td>4</td>\n",
       "      <td>5</td>\n",
       "      <td>6</td>\n",
       "      <td>7</td>\n",
       "    </tr>\n",
       "    <tr>\n",
       "      <th>2</th>\n",
       "      <td>8</td>\n",
       "      <td>9</td>\n",
       "      <td>10</td>\n",
       "      <td>11</td>\n",
       "    </tr>\n",
       "    <tr>\n",
       "      <th>3</th>\n",
       "      <td>12</td>\n",
       "      <td>13</td>\n",
       "      <td>14</td>\n",
       "      <td>15</td>\n",
       "    </tr>\n",
       "  </tbody>\n",
       "</table>\n",
       "</div>"
      ],
      "text/plain": [
       "    a   b   c   d\n",
       "0   0   1   2   3\n",
       "1   4   5   6   7\n",
       "2   8   9  10  11\n",
       "3  12  13  14  15"
      ]
     },
     "execution_count": 24,
     "metadata": {},
     "output_type": "execute_result"
    }
   ],
   "source": [
    "import pandas as pd\n",
    "df = pd.DataFrame(a, columns=list('abcd'))\n",
    "df"
   ]
  },
  {
   "cell_type": "code",
   "execution_count": 25,
   "id": "96dddc06",
   "metadata": {},
   "outputs": [
    {
     "name": "stdout",
     "output_type": "stream",
     "text": [
      "<class 'pandas.core.frame.DataFrame'>\n"
     ]
    }
   ],
   "source": [
    "print(type(df))"
   ]
  },
  {
   "cell_type": "code",
   "execution_count": 26,
   "id": "8f5fba72",
   "metadata": {},
   "outputs": [
    {
     "data": {
      "text/plain": [
       "Index(['a', 'b', 'c', 'd'], dtype='object')"
      ]
     },
     "execution_count": 26,
     "metadata": {},
     "output_type": "execute_result"
    }
   ],
   "source": [
    "df.columns"
   ]
  },
  {
   "cell_type": "code",
   "execution_count": 27,
   "id": "7591cb5a",
   "metadata": {},
   "outputs": [
    {
     "data": {
      "text/plain": [
       "a    24\n",
       "b    28\n",
       "c    32\n",
       "d    36\n",
       "dtype: int64"
      ]
     },
     "execution_count": 27,
     "metadata": {},
     "output_type": "execute_result"
    }
   ],
   "source": [
    "df.sum()"
   ]
  },
  {
   "cell_type": "code",
   "execution_count": 28,
   "id": "44583310",
   "metadata": {},
   "outputs": [
    {
     "data": {
      "text/html": [
       "<div>\n",
       "<style scoped>\n",
       "    .dataframe tbody tr th:only-of-type {\n",
       "        vertical-align: middle;\n",
       "    }\n",
       "\n",
       "    .dataframe tbody tr th {\n",
       "        vertical-align: top;\n",
       "    }\n",
       "\n",
       "    .dataframe thead th {\n",
       "        text-align: right;\n",
       "    }\n",
       "</style>\n",
       "<table border=\"1\" class=\"dataframe\">\n",
       "  <thead>\n",
       "    <tr style=\"text-align: right;\">\n",
       "      <th></th>\n",
       "      <th>a</th>\n",
       "      <th>b</th>\n",
       "      <th>c</th>\n",
       "      <th>d</th>\n",
       "    </tr>\n",
       "  </thead>\n",
       "  <tbody>\n",
       "    <tr>\n",
       "      <th>0</th>\n",
       "      <td>0</td>\n",
       "      <td>1</td>\n",
       "      <td>2</td>\n",
       "      <td>3</td>\n",
       "    </tr>\n",
       "    <tr>\n",
       "      <th>1</th>\n",
       "      <td>4</td>\n",
       "      <td>6</td>\n",
       "      <td>8</td>\n",
       "      <td>10</td>\n",
       "    </tr>\n",
       "    <tr>\n",
       "      <th>2</th>\n",
       "      <td>12</td>\n",
       "      <td>15</td>\n",
       "      <td>18</td>\n",
       "      <td>21</td>\n",
       "    </tr>\n",
       "    <tr>\n",
       "      <th>3</th>\n",
       "      <td>24</td>\n",
       "      <td>28</td>\n",
       "      <td>32</td>\n",
       "      <td>36</td>\n",
       "    </tr>\n",
       "  </tbody>\n",
       "</table>\n",
       "</div>"
      ],
      "text/plain": [
       "    a   b   c   d\n",
       "0   0   1   2   3\n",
       "1   4   6   8  10\n",
       "2  12  15  18  21\n",
       "3  24  28  32  36"
      ]
     },
     "execution_count": 28,
     "metadata": {},
     "output_type": "execute_result"
    }
   ],
   "source": [
    "df.cumsum()"
   ]
  },
  {
   "cell_type": "markdown",
   "id": "1aabe76d",
   "metadata": {},
   "source": [
    "# Basics of Python Classes"
   ]
  },
  {
   "cell_type": "markdown",
   "id": "e3499998",
   "metadata": {},
   "source": [
    "This section covers major concepts and the concrete syntax to make use of OOP in\n",
    "Python. The context now is about building custom classes to model types of objects\n",
    "that cannot be easily, efficiently, or properly modeled by existing Python object types.\n",
    "Throughout, the example of a financial instrument is used."
   ]
  },
  {
   "cell_type": "code",
   "execution_count": 29,
   "id": "1c21dc67",
   "metadata": {},
   "outputs": [],
   "source": [
    "class FinancialInstrument(object):\n",
    "    pass"
   ]
  },
  {
   "cell_type": "code",
   "execution_count": 30,
   "id": "cc62da74",
   "metadata": {},
   "outputs": [
    {
     "data": {
      "text/plain": [
       "__main__.FinancialInstrument"
      ]
     },
     "execution_count": 30,
     "metadata": {},
     "output_type": "execute_result"
    }
   ],
   "source": [
    "fi = FinancialInstrument()\n",
    "type(fi)"
   ]
  },
  {
   "cell_type": "code",
   "execution_count": 31,
   "id": "56d1e10b",
   "metadata": {},
   "outputs": [
    {
     "data": {
      "text/plain": [
       "'<__main__.FinancialInstrument object at 0x164e3aae0>'"
      ]
     },
     "execution_count": 31,
     "metadata": {},
     "output_type": "execute_result"
    }
   ],
   "source": [
    "fi.__str__()"
   ]
  },
  {
   "cell_type": "code",
   "execution_count": 33,
   "id": "5a8cebe2",
   "metadata": {},
   "outputs": [
    {
     "data": {
      "text/plain": [
       "100"
      ]
     },
     "execution_count": 33,
     "metadata": {},
     "output_type": "execute_result"
    }
   ],
   "source": [
    "fi.price = 100\n",
    "fi.price"
   ]
  },
  {
   "cell_type": "markdown",
   "id": "258d3e8f",
   "metadata": {},
   "source": [
    "An important special method is __init__, which gets called during every instantiation of an object. It takes as parameters the object itself (self, by convention) and\n",
    "potentially multiple others."
   ]
  },
  {
   "cell_type": "code",
   "execution_count": 34,
   "id": "3238cc8d",
   "metadata": {},
   "outputs": [],
   "source": [
    "class FinancialInstrument(object):\n",
    "    author = 'Dhairya Kantawala'\n",
    "    def __init__(self, symbol, price):\n",
    "        self.symbol = symbol\n",
    "        self.price = price"
   ]
  },
  {
   "cell_type": "code",
   "execution_count": 35,
   "id": "3a11d113",
   "metadata": {},
   "outputs": [
    {
     "data": {
      "text/plain": [
       "'Dhairya Kantawala'"
      ]
     },
     "execution_count": 35,
     "metadata": {},
     "output_type": "execute_result"
    }
   ],
   "source": [
    "FinancialInstrument.author"
   ]
  },
  {
   "cell_type": "code",
   "execution_count": 36,
   "id": "03206208",
   "metadata": {},
   "outputs": [],
   "source": [
    "aapl = FinancialInstrument('AAPL', 100)"
   ]
  },
  {
   "cell_type": "code",
   "execution_count": 37,
   "id": "d7288062",
   "metadata": {},
   "outputs": [
    {
     "data": {
      "text/plain": [
       "'AAPL'"
      ]
     },
     "execution_count": 37,
     "metadata": {},
     "output_type": "execute_result"
    }
   ],
   "source": [
    "aapl.symbol"
   ]
  },
  {
   "cell_type": "code",
   "execution_count": 38,
   "id": "1a0124c0",
   "metadata": {},
   "outputs": [
    {
     "data": {
      "text/plain": [
       "'Dhairya Kantawala'"
      ]
     },
     "execution_count": 38,
     "metadata": {},
     "output_type": "execute_result"
    }
   ],
   "source": [
    "aapl.author"
   ]
  },
  {
   "cell_type": "code",
   "execution_count": 39,
   "id": "ff069474",
   "metadata": {},
   "outputs": [
    {
     "data": {
      "text/plain": [
       "105"
      ]
     },
     "execution_count": 39,
     "metadata": {},
     "output_type": "execute_result"
    }
   ],
   "source": [
    "aapl.price = 105\n",
    "aapl.price"
   ]
  },
  {
   "cell_type": "markdown",
   "id": "93391738",
   "metadata": {},
   "source": [
    "Prices of financial instruments change regularly, but the symbol of a financial instrument probably does not change. To introduce encapsulation to the class definition,\n",
    "two methods, get_price() and set_price(), might be defined. The code that follows additionally inherits from the previous class definition (and not from object\n",
    "anymore)."
   ]
  },
  {
   "cell_type": "code",
   "execution_count": 40,
   "id": "266ca38f",
   "metadata": {},
   "outputs": [],
   "source": [
    "class FinancialInstrument(FinancialInstrument):\n",
    "    def get_price(self):\n",
    "        return self.price\n",
    "    def set_price(self, price):\n",
    "        self.price = price"
   ]
  },
  {
   "cell_type": "code",
   "execution_count": 41,
   "id": "57c3fda0",
   "metadata": {},
   "outputs": [],
   "source": [
    "fi = FinancialInstrument('AAPL', 100)"
   ]
  },
  {
   "cell_type": "code",
   "execution_count": 46,
   "id": "c2967084",
   "metadata": {},
   "outputs": [
    {
     "data": {
      "text/plain": [
       "100"
      ]
     },
     "execution_count": 46,
     "metadata": {},
     "output_type": "execute_result"
    }
   ],
   "source": [
    "fi.get_price()"
   ]
  },
  {
   "cell_type": "code",
   "execution_count": 49,
   "id": "3f4dc8d8",
   "metadata": {},
   "outputs": [
    {
     "name": "stdout",
     "output_type": "stream",
     "text": [
      "120\n",
      "120\n"
     ]
    }
   ],
   "source": [
    "fi.set_price(120)\n",
    "print(fi.get_price())\n",
    "print(fi.price)"
   ]
  },
  {
   "cell_type": "markdown",
   "id": "e88d94d0",
   "metadata": {},
   "source": [
    "Encapsulation generally has the goal of hiding data from the user working with a\n",
    "class. Adding getter and setter methods is one part of achieving this goal. However,\n",
    "this does not prevent the user from directly accessing and manipulating instance\n",
    "attributes. This is where private instance attributes come into play. They are defined\n",
    "by two leading underscores."
   ]
  },
  {
   "cell_type": "code",
   "execution_count": 50,
   "id": "6ef00cd6",
   "metadata": {},
   "outputs": [],
   "source": [
    "class FinancialInstrument(object):\n",
    "    def __init__(self, symbol, price):\n",
    "        self.symbol = symbol\n",
    "        self.__price = price\n",
    "\n",
    "    def get_price(self):\n",
    "        return self.__price\n",
    "\n",
    "    def set_price(self, price):\n",
    "        self.__price = price"
   ]
  },
  {
   "cell_type": "code",
   "execution_count": 52,
   "id": "b852de01",
   "metadata": {},
   "outputs": [
    {
     "data": {
      "text/plain": [
       "100"
      ]
     },
     "execution_count": 52,
     "metadata": {},
     "output_type": "execute_result"
    }
   ],
   "source": [
    "fi = FinancialInstrument('AAPL', 100)\n",
    "fi.get_price()"
   ]
  },
  {
   "cell_type": "code",
   "execution_count": 53,
   "id": "816e4850",
   "metadata": {},
   "outputs": [
    {
     "ename": "AttributeError",
     "evalue": "'FinancialInstrument' object has no attribute '__price'",
     "output_type": "error",
     "traceback": [
      "\u001b[31m---------------------------------------------------------------------------\u001b[39m",
      "\u001b[31mAttributeError\u001b[39m                            Traceback (most recent call last)",
      "\u001b[36mCell\u001b[39m\u001b[36m \u001b[39m\u001b[32mIn[53]\u001b[39m\u001b[32m, line 1\u001b[39m\n\u001b[32m----> \u001b[39m\u001b[32m1\u001b[39m \u001b[43mfi\u001b[49m\u001b[43m.\u001b[49m\u001b[43m__price\u001b[49m\n",
      "\u001b[31mAttributeError\u001b[39m: 'FinancialInstrument' object has no attribute '__price'"
     ]
    }
   ],
   "source": [
    "fi.__price"
   ]
  },
  {
   "cell_type": "code",
   "execution_count": 55,
   "id": "f9527eb2",
   "metadata": {},
   "outputs": [
    {
     "data": {
      "text/plain": [
       "100"
      ]
     },
     "execution_count": 55,
     "metadata": {},
     "output_type": "execute_result"
    }
   ],
   "source": [
    "fi._FinancialInstrument__price"
   ]
  },
  {
   "cell_type": "markdown",
   "id": "7af480cc",
   "metadata": {},
   "source": [
    "Consider another class that models a portfolio position of a financial instrument.\n",
    "With the two classes aggregation as a concept is easily illustrated. An instance of the\n",
    "PortfolioPosition class takes an instance of the FinancialInstrument class as an\n",
    "attribute value. Adding an instance attribute, such as position_size, one can then\n",
    "calculate, for instance, the position value."
   ]
  },
  {
   "cell_type": "code",
   "execution_count": 58,
   "id": "26cd0012",
   "metadata": {},
   "outputs": [],
   "source": [
    "class PortfolioPosition(object):\n",
    "    def __init__(self, financial_instrument, position_size):\n",
    "        self.position = financial_instrument\n",
    "        self.__position_size = position_size\n",
    "    def get_position_size(self):\n",
    "        return self.__position_size\n",
    "    def update_positon_size(self, position_size):\n",
    "        self.__position_size = position_size\n",
    "    def get_position_value(self):\n",
    "        return self.__position_size * self.position.get_price()"
   ]
  },
  {
   "cell_type": "code",
   "execution_count": 59,
   "id": "05def622",
   "metadata": {},
   "outputs": [
    {
     "data": {
      "text/plain": [
       "10"
      ]
     },
     "execution_count": 59,
     "metadata": {},
     "output_type": "execute_result"
    }
   ],
   "source": [
    "pp = PortfolioPosition(fi, 10)\n",
    "pp.get_position_size()"
   ]
  },
  {
   "cell_type": "code",
   "execution_count": 60,
   "id": "0445c222",
   "metadata": {},
   "outputs": [
    {
     "data": {
      "text/plain": [
       "1000"
      ]
     },
     "execution_count": 60,
     "metadata": {},
     "output_type": "execute_result"
    }
   ],
   "source": [
    "pp.get_position_value()"
   ]
  },
  {
   "cell_type": "code",
   "execution_count": 61,
   "id": "59fb265b",
   "metadata": {},
   "outputs": [
    {
     "data": {
      "text/plain": [
       "100"
      ]
     },
     "execution_count": 61,
     "metadata": {},
     "output_type": "execute_result"
    }
   ],
   "source": [
    "pp.position.get_price()"
   ]
  },
  {
   "cell_type": "code",
   "execution_count": 62,
   "id": "165232fc",
   "metadata": {},
   "outputs": [
    {
     "data": {
      "text/plain": [
       "1050"
      ]
     },
     "execution_count": 62,
     "metadata": {},
     "output_type": "execute_result"
    }
   ],
   "source": [
    "pp.position.set_price(105)\n",
    "pp.get_position_value()"
   ]
  },
  {
   "cell_type": "markdown",
   "id": "4d3ed394",
   "metadata": {},
   "source": [
    "# Python Data Model"
   ]
  },
  {
   "cell_type": "code",
   "execution_count": 63,
   "id": "c41e34d9",
   "metadata": {},
   "outputs": [],
   "source": [
    "class Vector(object):\n",
    "    def __init__(self, x=0, y=0, z=0):\n",
    "        self.x = x\n",
    "        self.y = y\n",
    "        self.z = z"
   ]
  },
  {
   "cell_type": "code",
   "execution_count": 65,
   "id": "39d589d0",
   "metadata": {},
   "outputs": [
    {
     "data": {
      "text/plain": [
       "<__main__.Vector at 0x164ef4200>"
      ]
     },
     "execution_count": 65,
     "metadata": {},
     "output_type": "execute_result"
    }
   ],
   "source": [
    "v = Vector(1, 2, 3)\n",
    "v"
   ]
  },
  {
   "cell_type": "markdown",
   "id": "bd2a5826",
   "metadata": {},
   "source": [
    "The special method __repr__ allows the definition of custom string representations."
   ]
  },
  {
   "cell_type": "code",
   "execution_count": 68,
   "id": "1f15be31",
   "metadata": {},
   "outputs": [],
   "source": [
    "class Vector(Vector):\n",
    "    def __repr__(self):\n",
    "        return 'Vector(%r, %r, %r)'%(self.x, self.y, self.z)"
   ]
  },
  {
   "cell_type": "code",
   "execution_count": 69,
   "id": "187fa0be",
   "metadata": {},
   "outputs": [
    {
     "data": {
      "text/plain": [
       "Vector(1, 2, 3)"
      ]
     },
     "execution_count": 69,
     "metadata": {},
     "output_type": "execute_result"
    }
   ],
   "source": [
    "v = Vector(1, 2, 3)\n",
    "v"
   ]
  },
  {
   "cell_type": "code",
   "execution_count": 70,
   "id": "e8b3fc15",
   "metadata": {},
   "outputs": [
    {
     "name": "stdout",
     "output_type": "stream",
     "text": [
      "Vector(1, 2, 3)\n"
     ]
    }
   ],
   "source": [
    "print(v)"
   ]
  },
  {
   "cell_type": "markdown",
   "id": "8399e228",
   "metadata": {},
   "source": [
    "abs() and bool() are two standard Python functions whose behavior on the Vector\n",
    "class can be defined via the special methods __abs__ and __bool__."
   ]
  },
  {
   "cell_type": "code",
   "execution_count": 75,
   "id": "aeb7fddb",
   "metadata": {},
   "outputs": [],
   "source": [
    "class Vector(Vector):\n",
    "    def __abs__(self):\n",
    "        return ((self.x ** 2 + self.y** 2 + self.z**2)**0.5)\n",
    "    def __bool__(self):\n",
    "        return bool(abs(self))"
   ]
  },
  {
   "cell_type": "code",
   "execution_count": 76,
   "id": "f2e2734a",
   "metadata": {},
   "outputs": [
    {
     "data": {
      "text/plain": [
       "2.449489742783178"
      ]
     },
     "execution_count": 76,
     "metadata": {},
     "output_type": "execute_result"
    }
   ],
   "source": [
    "v = Vector(1, 2, -1)\n",
    "abs(v)"
   ]
  },
  {
   "cell_type": "code",
   "execution_count": 77,
   "id": "83984099",
   "metadata": {},
   "outputs": [
    {
     "data": {
      "text/plain": [
       "True"
      ]
     },
     "execution_count": 77,
     "metadata": {},
     "output_type": "execute_result"
    }
   ],
   "source": [
    "bool(v)"
   ]
  },
  {
   "cell_type": "code",
   "execution_count": 78,
   "id": "14b7b3a2",
   "metadata": {},
   "outputs": [
    {
     "data": {
      "text/plain": [
       "False"
      ]
     },
     "execution_count": 78,
     "metadata": {},
     "output_type": "execute_result"
    }
   ],
   "source": [
    "v = Vector(0,0,0)\n",
    "bool(v)"
   ]
  },
  {
   "cell_type": "markdown",
   "id": "d879405c",
   "metadata": {},
   "source": [
    "As shown multiple times, the + and * operators can be applied to almost any Python\n",
    "object. The behavior is defined through the special methods __add__ and __mul__."
   ]
  },
  {
   "cell_type": "code",
   "execution_count": 79,
   "id": "7c05fa32",
   "metadata": {},
   "outputs": [],
   "source": [
    "class Vector(Vector):\n",
    "    def __add__(self, other):\n",
    "        x = self.x + other.x\n",
    "        y = self.y + other.y\n",
    "        z = self.z + other.z\n",
    "        return Vector(x, y, z)\n",
    "    def __mul__(self, scalar):\n",
    "        return Vector(self.x*scalar, self.y*scalar, self.z*scalar)"
   ]
  },
  {
   "cell_type": "code",
   "execution_count": 81,
   "id": "f31f738e",
   "metadata": {},
   "outputs": [
    {
     "data": {
      "text/plain": [
       "Vector(3, 5, 7)"
      ]
     },
     "execution_count": 81,
     "metadata": {},
     "output_type": "execute_result"
    }
   ],
   "source": [
    "v = Vector(1, 2, 3)\n",
    "v + Vector(2, 3, 4)"
   ]
  },
  {
   "cell_type": "code",
   "execution_count": 82,
   "id": "d8aeba96",
   "metadata": {},
   "outputs": [
    {
     "data": {
      "text/plain": [
       "Vector(2, 4, 6)"
      ]
     },
     "execution_count": 82,
     "metadata": {},
     "output_type": "execute_result"
    }
   ],
   "source": [
    "v * 2"
   ]
  },
  {
   "cell_type": "markdown",
   "id": "14ef9c24",
   "metadata": {},
   "source": [
    "Another standard Python function is len(), which gives the length of an object in\n",
    "number of elements. This function accesses the special method __len__ when called\n",
    "on an object. On the other hand, the special method __getitem__ makes indexing via\n",
    "the square bracket notation possible."
   ]
  },
  {
   "cell_type": "code",
   "execution_count": 83,
   "id": "66a3c2f8",
   "metadata": {},
   "outputs": [],
   "source": [
    "class Vector(Vector):\n",
    "    def __len__(self):\n",
    "        return 3\n",
    "    def __getitem__(self, i):\n",
    "        if i in[0, -3]: return self.x\n",
    "        elif i in [1, -2]: return self.y\n",
    "        elif i in [2, -1]: return self.z\n",
    "        else: raise IndexError('Index out of range.')"
   ]
  },
  {
   "cell_type": "code",
   "execution_count": 84,
   "id": "ad1c8334",
   "metadata": {},
   "outputs": [],
   "source": [
    "v = Vector(1, 2, 3)"
   ]
  },
  {
   "cell_type": "code",
   "execution_count": 86,
   "id": "8848b58f",
   "metadata": {},
   "outputs": [
    {
     "data": {
      "text/plain": [
       "3"
      ]
     },
     "execution_count": 86,
     "metadata": {},
     "output_type": "execute_result"
    }
   ],
   "source": [
    "len(v)"
   ]
  },
  {
   "cell_type": "code",
   "execution_count": 87,
   "id": "196f41ff",
   "metadata": {},
   "outputs": [
    {
     "data": {
      "text/plain": [
       "1"
      ]
     },
     "execution_count": 87,
     "metadata": {},
     "output_type": "execute_result"
    }
   ],
   "source": [
    "v[0]"
   ]
  },
  {
   "cell_type": "code",
   "execution_count": 88,
   "id": "772f089b",
   "metadata": {},
   "outputs": [
    {
     "data": {
      "text/plain": [
       "2"
      ]
     },
     "execution_count": 88,
     "metadata": {},
     "output_type": "execute_result"
    }
   ],
   "source": [
    "v[-2]"
   ]
  },
  {
   "cell_type": "code",
   "execution_count": 91,
   "id": "24e3f214",
   "metadata": {},
   "outputs": [
    {
     "ename": "IndexError",
     "evalue": "Index out of range.",
     "output_type": "error",
     "traceback": [
      "\u001b[31m---------------------------------------------------------------------------\u001b[39m",
      "\u001b[31mIndexError\u001b[39m                                Traceback (most recent call last)",
      "\u001b[36mCell\u001b[39m\u001b[36m \u001b[39m\u001b[32mIn[91]\u001b[39m\u001b[32m, line 1\u001b[39m\n\u001b[32m----> \u001b[39m\u001b[32m1\u001b[39m \u001b[43mv\u001b[49m\u001b[43m[\u001b[49m\u001b[32;43m3\u001b[39;49m\u001b[43m]\u001b[49m\n",
      "\u001b[36mCell\u001b[39m\u001b[36m \u001b[39m\u001b[32mIn[83]\u001b[39m\u001b[32m, line 8\u001b[39m, in \u001b[36mVector.__getitem__\u001b[39m\u001b[34m(self, i)\u001b[39m\n\u001b[32m      6\u001b[39m \u001b[38;5;28;01melif\u001b[39;00m i \u001b[38;5;129;01min\u001b[39;00m [\u001b[32m1\u001b[39m, -\u001b[32m2\u001b[39m]: \u001b[38;5;28;01mreturn\u001b[39;00m \u001b[38;5;28mself\u001b[39m.y\n\u001b[32m      7\u001b[39m \u001b[38;5;28;01melif\u001b[39;00m i \u001b[38;5;129;01min\u001b[39;00m [\u001b[32m2\u001b[39m, -\u001b[32m1\u001b[39m]: \u001b[38;5;28;01mreturn\u001b[39;00m \u001b[38;5;28mself\u001b[39m.z\n\u001b[32m----> \u001b[39m\u001b[32m8\u001b[39m \u001b[38;5;28;01melse\u001b[39;00m: \u001b[38;5;28;01mraise\u001b[39;00m \u001b[38;5;167;01mIndexError\u001b[39;00m(\u001b[33m'\u001b[39m\u001b[33mIndex out of range.\u001b[39m\u001b[33m'\u001b[39m)\n",
      "\u001b[31mIndexError\u001b[39m: Index out of range."
     ]
    }
   ],
   "source": [
    "v[3]"
   ]
  },
  {
   "cell_type": "markdown",
   "id": "f96c168c",
   "metadata": {},
   "source": [
    "Finally, the special method __iter__ defines the behavior during iterations over elements of an object. An object for which this operation is defined is called iterable. For\n",
    "instance, all collections and containers are iterable."
   ]
  },
  {
   "cell_type": "code",
   "execution_count": 92,
   "id": "43ebaafc",
   "metadata": {},
   "outputs": [],
   "source": [
    "class Vector(Vector):\n",
    "    def __iter__(self):\n",
    "        for i in range(len(self)):\n",
    "            yield self[i]"
   ]
  },
  {
   "cell_type": "code",
   "execution_count": 93,
   "id": "186acf01",
   "metadata": {},
   "outputs": [
    {
     "name": "stdout",
     "output_type": "stream",
     "text": [
      "-10\n",
      "3\n",
      "7\n"
     ]
    }
   ],
   "source": [
    "v = Vector(-10, 3, 7)\n",
    "for coord in v:\n",
    "    print(coord)"
   ]
  }
 ],
 "metadata": {
  "kernelspec": {
   "display_name": "new_env",
   "language": "python",
   "name": "python3"
  },
  "language_info": {
   "codemirror_mode": {
    "name": "ipython",
    "version": 3
   },
   "file_extension": ".py",
   "mimetype": "text/x-python",
   "name": "python",
   "nbconvert_exporter": "python",
   "pygments_lexer": "ipython3",
   "version": "3.12.7"
  }
 },
 "nbformat": 4,
 "nbformat_minor": 5
}
