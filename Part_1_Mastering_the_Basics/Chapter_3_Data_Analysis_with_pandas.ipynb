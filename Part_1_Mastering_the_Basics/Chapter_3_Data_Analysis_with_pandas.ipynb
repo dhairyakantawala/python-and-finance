{
 "cells": [
  {
   "cell_type": "markdown",
   "id": "ce1c986c",
   "metadata": {},
   "source": [
    "Data! Data! Data! I can’t make bricks without clay!\n",
    "—Sherlock Holmes"
   ]
  },
  {
   "cell_type": "markdown",
   "id": "d437eaec",
   "metadata": {},
   "source": [
    "# The DataFrame Class"
   ]
  },
  {
   "cell_type": "markdown",
   "id": "8468367c",
   "metadata": {},
   "source": [
    "## First Steps with the DataFrame Class"
   ]
  },
  {
   "cell_type": "markdown",
   "id": "24f78e66",
   "metadata": {},
   "source": [
    "## Second Steps with the DataFrame Class"
   ]
  },
  {
   "cell_type": "markdown",
   "id": "5438f0a4",
   "metadata": {},
   "source": [
    "# Basic Analytics"
   ]
  },
  {
   "cell_type": "markdown",
   "id": "e0bc028b",
   "metadata": {},
   "source": [
    "# Basic Visualization"
   ]
  },
  {
   "cell_type": "markdown",
   "id": "a4594280",
   "metadata": {},
   "source": [
    "# The Series Class"
   ]
  },
  {
   "cell_type": "markdown",
   "id": "c0c80e1c",
   "metadata": {},
   "source": [
    "# GroupBy Operations"
   ]
  },
  {
   "cell_type": "markdown",
   "id": "d1a86e0a",
   "metadata": {},
   "source": [
    "# Complex Selection"
   ]
  },
  {
   "cell_type": "markdown",
   "id": "7337c4eb",
   "metadata": {},
   "source": [
    "# Concatenation, Joining, and Merging"
   ]
  },
  {
   "cell_type": "markdown",
   "id": "dc44731e",
   "metadata": {},
   "source": [
    "## Concatenation"
   ]
  },
  {
   "cell_type": "markdown",
   "id": "9fc6ba8c",
   "metadata": {},
   "source": [
    "## Joining"
   ]
  },
  {
   "cell_type": "markdown",
   "id": "5abca4cc",
   "metadata": {},
   "source": [
    "## Merging"
   ]
  },
  {
   "cell_type": "markdown",
   "id": "4ccffcda",
   "metadata": {},
   "source": [
    "# Performance Aspects"
   ]
  }
 ],
 "metadata": {
  "language_info": {
   "name": "python"
  }
 },
 "nbformat": 4,
 "nbformat_minor": 5
}
