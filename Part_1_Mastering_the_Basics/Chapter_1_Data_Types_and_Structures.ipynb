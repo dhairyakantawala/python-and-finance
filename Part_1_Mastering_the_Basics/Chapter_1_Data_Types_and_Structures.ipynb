{
 "cells": [
  {
   "cell_type": "markdown",
   "id": "d0ca0a38",
   "metadata": {},
   "source": [
    "\"Bad programmers worry about the code. Good programmers worry about data structures and their relationships.\"\n",
    "—Linus Torvalds"
   ]
  },
  {
   "cell_type": "markdown",
   "id": "edbcbc2a",
   "metadata": {},
   "source": [
    "| Object type | Meaning | Used for |\n",
    "|------------|---------|-----------|\n",
    "| int | Integer value | Natural numbers |\n",
    "| float | Floating-point number | Real numbers |\n",
    "| bool | Boolean value | Something true or false |\n",
    "| str | String object | Character, word, text |\n",
    "| tuple | Immutable container | Fixed set of objects, record |\n",
    "| list | Mutable container | Changing set of objects |\n",
    "| dict | Mutable container | Key-value store |\n",
    "| set | Mutable container | Collection of unique objects |\n",
    "\n"
   ]
  },
  {
   "cell_type": "markdown",
   "id": "30e37117",
   "metadata": {},
   "source": [
    "# Integers"
   ]
  },
  {
   "cell_type": "markdown",
   "id": "f69062e0",
   "metadata": {},
   "source": [
    "The built-in function type provides type information for all objects with standard\n",
    "and built-in types as well as for newly created classes and objects."
   ]
  },
  {
   "cell_type": "code",
   "execution_count": 1,
   "id": "38cc515e",
   "metadata": {},
   "outputs": [
    {
     "data": {
      "text/plain": [
       "int"
      ]
     },
     "execution_count": 1,
     "metadata": {},
     "output_type": "execute_result"
    }
   ],
   "source": [
    "a = 10\n",
    "type(a)"
   ]
  },
  {
   "cell_type": "markdown",
   "id": "dbe0957c",
   "metadata": {},
   "source": [
    "One can get the number of bits needed to represent the int\n",
    "object in memory by calling the method bit_length()."
   ]
  },
  {
   "cell_type": "code",
   "execution_count": 2,
   "id": "12c20464",
   "metadata": {},
   "outputs": [
    {
     "data": {
      "text/plain": [
       "4"
      ]
     },
     "execution_count": 2,
     "metadata": {},
     "output_type": "execute_result"
    }
   ],
   "source": [
    "a.bit_length()"
   ]
  },
  {
   "cell_type": "code",
   "execution_count": 3,
   "id": "86db6a5b",
   "metadata": {},
   "outputs": [
    {
     "data": {
      "text/plain": [
       "24"
      ]
     },
     "execution_count": 3,
     "metadata": {},
     "output_type": "execute_result"
    }
   ],
   "source": [
    "a = 10000000\n",
    "a.bit_length()"
   ]
  },
  {
   "cell_type": "code",
   "execution_count": 6,
   "id": "e79ae4b8",
   "metadata": {},
   "outputs": [
    {
     "data": {
      "text/plain": [
       "333"
      ]
     },
     "execution_count": 6,
     "metadata": {},
     "output_type": "execute_result"
    }
   ],
   "source": [
    "googol = 10 ** 100\n",
    "googol.bit_length()"
   ]
  },
  {
   "cell_type": "markdown",
   "id": "959cc436",
   "metadata": {},
   "source": [
    "Python integers can be arbitrarily large. The interpreter simply\n",
    "uses as many bits/bytes as needed to represent the numbers."
   ]
  },
  {
   "cell_type": "code",
   "execution_count": 7,
   "id": "152b2de5",
   "metadata": {},
   "outputs": [
    {
     "data": {
      "text/plain": [
       "5"
      ]
     },
     "execution_count": 7,
     "metadata": {},
     "output_type": "execute_result"
    }
   ],
   "source": [
    "1 + 4"
   ]
  },
  {
   "cell_type": "code",
   "execution_count": 8,
   "id": "f961562a",
   "metadata": {},
   "outputs": [
    {
     "data": {
      "text/plain": [
       "0.25"
      ]
     },
     "execution_count": 8,
     "metadata": {},
     "output_type": "execute_result"
    }
   ],
   "source": [
    "1/4"
   ]
  },
  {
   "cell_type": "code",
   "execution_count": 9,
   "id": "7c90dea4",
   "metadata": {},
   "outputs": [
    {
     "data": {
      "text/plain": [
       "0"
      ]
     },
     "execution_count": 9,
     "metadata": {},
     "output_type": "execute_result"
    }
   ],
   "source": [
    "1//4"
   ]
  },
  {
   "cell_type": "code",
   "execution_count": 10,
   "id": "aac373ab",
   "metadata": {},
   "outputs": [
    {
     "data": {
      "text/plain": [
       "float"
      ]
     },
     "execution_count": 10,
     "metadata": {},
     "output_type": "execute_result"
    }
   ],
   "source": [
    "type(1/4)"
   ]
  },
  {
   "cell_type": "markdown",
   "id": "6faa4a65",
   "metadata": {},
   "source": [
    "# Floats"
   ]
  },
  {
   "cell_type": "code",
   "execution_count": 11,
   "id": "965f7960",
   "metadata": {},
   "outputs": [
    {
     "data": {
      "text/plain": [
       "float"
      ]
     },
     "execution_count": 11,
     "metadata": {},
     "output_type": "execute_result"
    }
   ],
   "source": [
    "type(1.)"
   ]
  },
  {
   "cell_type": "code",
   "execution_count": 12,
   "id": "e6c1a44a",
   "metadata": {},
   "outputs": [
    {
     "data": {
      "text/plain": [
       "float"
      ]
     },
     "execution_count": 12,
     "metadata": {},
     "output_type": "execute_result"
    }
   ],
   "source": [
    "type(1.0)"
   ]
  },
  {
   "cell_type": "markdown",
   "id": "6d2183f1",
   "metadata": {},
   "source": [
    "Float objects like this one are always represented internally up to a certain degree of accu‐racy only"
   ]
  },
  {
   "cell_type": "code",
   "execution_count": 13,
   "id": "29a06b19",
   "metadata": {},
   "outputs": [
    {
     "data": {
      "text/plain": [
       "float"
      ]
     },
     "execution_count": 13,
     "metadata": {},
     "output_type": "execute_result"
    }
   ],
   "source": [
    "b = 0.35\n",
    "type(b)"
   ]
  },
  {
   "cell_type": "code",
   "execution_count": 14,
   "id": "5816a46c",
   "metadata": {},
   "outputs": [
    {
     "data": {
      "text/plain": [
       "0.44999999999999996"
      ]
     },
     "execution_count": 14,
     "metadata": {},
     "output_type": "execute_result"
    }
   ],
   "source": [
    "b + 0.1"
   ]
  },
  {
   "cell_type": "markdown",
   "id": "6d743285",
   "metadata": {},
   "source": [
    "a decimal number 0 < n < 1 is represented by a series of the form\n",
    "$n = \\frac{x}{2} + \\frac{y}{4} + \\frac{z}{8} + ...$  For certain floating-point numbers the binary representation\n",
    "might involve a large number of elements or might even be an infinite series"
   ]
  },
  {
   "cell_type": "code",
   "execution_count": 15,
   "id": "07f1625c",
   "metadata": {},
   "outputs": [
    {
     "data": {
      "text/plain": [
       "(1, 2)"
      ]
     },
     "execution_count": 15,
     "metadata": {},
     "output_type": "execute_result"
    }
   ],
   "source": [
    "c = 0.5\n",
    "c.as_integer_ratio()"
   ]
  },
  {
   "cell_type": "code",
   "execution_count": 16,
   "id": "4bcbfcd7",
   "metadata": {},
   "outputs": [
    {
     "data": {
      "text/plain": [
       "(3152519739159347, 9007199254740992)"
      ]
     },
     "execution_count": 16,
     "metadata": {},
     "output_type": "execute_result"
    }
   ],
   "source": [
    "b = 0.35\n",
    "b.as_integer_ratio()"
   ]
  },
  {
   "cell_type": "markdown",
   "id": "b797e819",
   "metadata": {},
   "source": [
    "The precision is dependent on the number of bits used to represent the number. In\n",
    "general, all platforms that Python runs on use the IEEE 754 double-precision standard—i.e., 64 bits—for internal representation. This translates into a 15-digit relative accuracy."
   ]
  },
  {
   "cell_type": "markdown",
   "id": "5f9c2507",
   "metadata": {},
   "source": [
    "Since this topic is of high importance for several application areas in finance, it is\n",
    "sometimes necessary to ensure the exact, or at least best possible, representation of\n",
    "numbers. For example, the issue can be of importance when summing over a large set\n",
    "of numbers. In such a situation, a certain kind and/or magnitude of representation\n",
    "error might, in aggregate, lead to significant deviations from a benchmark value."
   ]
  },
  {
   "cell_type": "markdown",
   "id": "dd5f8c48",
   "metadata": {},
   "source": [
    "The module decimal provides an arbitrary-precision object for floating-point num‐\n",
    "bers and several options to address precision issues when working with such\n",
    "numbers."
   ]
  },
  {
   "cell_type": "code",
   "execution_count": 17,
   "id": "c341bd5e",
   "metadata": {},
   "outputs": [],
   "source": [
    "import decimal\n",
    "from decimal import Decimal"
   ]
  },
  {
   "cell_type": "code",
   "execution_count": 20,
   "id": "87149833",
   "metadata": {},
   "outputs": [
    {
     "data": {
      "text/plain": [
       "Context(prec=28, rounding=ROUND_HALF_EVEN, Emin=-999999, Emax=999999, capitals=1, clamp=0, flags=[], traps=[InvalidOperation, DivisionByZero, Overflow])"
      ]
     },
     "execution_count": 20,
     "metadata": {},
     "output_type": "execute_result"
    }
   ],
   "source": [
    "decimal.getcontext()"
   ]
  },
  {
   "cell_type": "code",
   "execution_count": 21,
   "id": "29dce878",
   "metadata": {},
   "outputs": [],
   "source": [
    "d = Decimal(1)/Decimal(11)"
   ]
  },
  {
   "cell_type": "code",
   "execution_count": 22,
   "id": "2e53d0ef",
   "metadata": {},
   "outputs": [
    {
     "data": {
      "text/plain": [
       "Decimal('0.09090909090909090909090909091')"
      ]
     },
     "execution_count": 22,
     "metadata": {},
     "output_type": "execute_result"
    }
   ],
   "source": [
    "d"
   ]
  },
  {
   "cell_type": "markdown",
   "id": "71e5b54c",
   "metadata": {},
   "source": [
    "One can change the precision of the representation by changing the respective\n",
    "attribute value of the Context object."
   ]
  },
  {
   "cell_type": "code",
   "execution_count": 24,
   "id": "9fb3563c",
   "metadata": {},
   "outputs": [],
   "source": [
    "decimal.getcontext().prec = 4"
   ]
  },
  {
   "cell_type": "code",
   "execution_count": 26,
   "id": "81ae2a17",
   "metadata": {},
   "outputs": [
    {
     "name": "stdout",
     "output_type": "stream",
     "text": [
      "0.09091\n"
     ]
    }
   ],
   "source": [
    "e = Decimal(1)/Decimal(11)\n",
    "print(e)"
   ]
  },
  {
   "cell_type": "code",
   "execution_count": 28,
   "id": "b1eeff36",
   "metadata": {},
   "outputs": [
    {
     "name": "stdout",
     "output_type": "stream",
     "text": [
      "0.090909090909090909090909090909090909090909090909091\n"
     ]
    }
   ],
   "source": [
    "decimal.getcontext().prec = 50\n",
    "f = Decimal(1)/Decimal(11)\n",
    "print(f)"
   ]
  },
  {
   "cell_type": "code",
   "execution_count": 29,
   "id": "e9390a66",
   "metadata": {},
   "outputs": [
    {
     "name": "stdout",
     "output_type": "stream",
     "text": [
      "0.27272818181818181818181818181909090909090909090909\n"
     ]
    }
   ],
   "source": [
    "g = d + e + f\n",
    "print(g)"
   ]
  },
  {
   "cell_type": "markdown",
   "id": "21e2961f",
   "metadata": {},
   "source": [
    "# Booleans"
   ]
  },
  {
   "cell_type": "markdown",
   "id": "b80d4f40",
   "metadata": {},
   "source": [
    "A complete list of Python keywords is available in the keyword module."
   ]
  },
  {
   "cell_type": "code",
   "execution_count": 30,
   "id": "e53203b2",
   "metadata": {},
   "outputs": [
    {
     "data": {
      "text/plain": [
       "['False',\n",
       " 'None',\n",
       " 'True',\n",
       " 'and',\n",
       " 'as',\n",
       " 'assert',\n",
       " 'async',\n",
       " 'await',\n",
       " 'break',\n",
       " 'class',\n",
       " 'continue',\n",
       " 'def',\n",
       " 'del',\n",
       " 'elif',\n",
       " 'else',\n",
       " 'except',\n",
       " 'finally',\n",
       " 'for',\n",
       " 'from',\n",
       " 'global',\n",
       " 'if',\n",
       " 'import',\n",
       " 'in',\n",
       " 'is',\n",
       " 'lambda',\n",
       " 'nonlocal',\n",
       " 'not',\n",
       " 'or',\n",
       " 'pass',\n",
       " 'raise',\n",
       " 'return',\n",
       " 'try',\n",
       " 'while',\n",
       " 'with',\n",
       " 'yield']"
      ]
     },
     "execution_count": 30,
     "metadata": {},
     "output_type": "execute_result"
    }
   ],
   "source": [
    "import keyword\n",
    "keyword.kwlist"
   ]
  },
  {
   "cell_type": "code",
   "execution_count": 31,
   "id": "bb2f71b5",
   "metadata": {},
   "outputs": [
    {
     "data": {
      "text/plain": [
       "True"
      ]
     },
     "execution_count": 31,
     "metadata": {},
     "output_type": "execute_result"
    }
   ],
   "source": [
    "4 > 3"
   ]
  },
  {
   "cell_type": "code",
   "execution_count": 32,
   "id": "a38062f6",
   "metadata": {},
   "outputs": [
    {
     "data": {
      "text/plain": [
       "bool"
      ]
     },
     "execution_count": 32,
     "metadata": {},
     "output_type": "execute_result"
    }
   ],
   "source": [
    "type(4 > 3)"
   ]
  },
  {
   "cell_type": "code",
   "execution_count": 33,
   "id": "a9f7ecfc",
   "metadata": {},
   "outputs": [
    {
     "data": {
      "text/plain": [
       "bool"
      ]
     },
     "execution_count": 33,
     "metadata": {},
     "output_type": "execute_result"
    }
   ],
   "source": [
    "type(False)"
   ]
  },
  {
   "cell_type": "code",
   "execution_count": 34,
   "id": "719e6485",
   "metadata": {},
   "outputs": [
    {
     "data": {
      "text/plain": [
       "True"
      ]
     },
     "execution_count": 34,
     "metadata": {},
     "output_type": "execute_result"
    }
   ],
   "source": [
    "4 >= 3"
   ]
  },
  {
   "cell_type": "code",
   "execution_count": 35,
   "id": "60722a63",
   "metadata": {},
   "outputs": [
    {
     "data": {
      "text/plain": [
       "False"
      ]
     },
     "execution_count": 35,
     "metadata": {},
     "output_type": "execute_result"
    }
   ],
   "source": [
    "4 <= 3"
   ]
  },
  {
   "cell_type": "code",
   "execution_count": 36,
   "id": "20110410",
   "metadata": {},
   "outputs": [
    {
     "data": {
      "text/plain": [
       "False"
      ]
     },
     "execution_count": 36,
     "metadata": {},
     "output_type": "execute_result"
    }
   ],
   "source": [
    "4 == 3"
   ]
  },
  {
   "cell_type": "code",
   "execution_count": 37,
   "id": "48a6a2b2",
   "metadata": {},
   "outputs": [
    {
     "data": {
      "text/plain": [
       "True"
      ]
     },
     "execution_count": 37,
     "metadata": {},
     "output_type": "execute_result"
    }
   ],
   "source": [
    "4 != 3"
   ]
  },
  {
   "cell_type": "markdown",
   "id": "91a0e86a",
   "metadata": {},
   "source": [
    "Boolean logic can also be combined."
   ]
  },
  {
   "cell_type": "code",
   "execution_count": 38,
   "id": "29ff042d",
   "metadata": {},
   "outputs": [
    {
     "data": {
      "text/plain": [
       "True"
      ]
     },
     "execution_count": 38,
     "metadata": {},
     "output_type": "execute_result"
    }
   ],
   "source": [
    "True and True"
   ]
  },
  {
   "cell_type": "code",
   "execution_count": 39,
   "id": "faeb109b",
   "metadata": {},
   "outputs": [
    {
     "data": {
      "text/plain": [
       "False"
      ]
     },
     "execution_count": 39,
     "metadata": {},
     "output_type": "execute_result"
    }
   ],
   "source": [
    "True and False"
   ]
  },
  {
   "cell_type": "code",
   "execution_count": 40,
   "id": "17c4fb8b",
   "metadata": {},
   "outputs": [
    {
     "data": {
      "text/plain": [
       "False"
      ]
     },
     "execution_count": 40,
     "metadata": {},
     "output_type": "execute_result"
    }
   ],
   "source": [
    "False and False"
   ]
  },
  {
   "cell_type": "code",
   "execution_count": 41,
   "id": "889f8b1d",
   "metadata": {},
   "outputs": [
    {
     "data": {
      "text/plain": [
       "True"
      ]
     },
     "execution_count": 41,
     "metadata": {},
     "output_type": "execute_result"
    }
   ],
   "source": [
    "True or True"
   ]
  },
  {
   "cell_type": "code",
   "execution_count": 42,
   "id": "2d00d52b",
   "metadata": {},
   "outputs": [
    {
     "data": {
      "text/plain": [
       "True"
      ]
     },
     "execution_count": 42,
     "metadata": {},
     "output_type": "execute_result"
    }
   ],
   "source": [
    "True or False"
   ]
  },
  {
   "cell_type": "code",
   "execution_count": 43,
   "id": "2e49f363",
   "metadata": {},
   "outputs": [
    {
     "data": {
      "text/plain": [
       "False"
      ]
     },
     "execution_count": 43,
     "metadata": {},
     "output_type": "execute_result"
    }
   ],
   "source": [
    "False or False"
   ]
  },
  {
   "cell_type": "code",
   "execution_count": 44,
   "id": "3d4ac6cf",
   "metadata": {},
   "outputs": [
    {
     "data": {
      "text/plain": [
       "False"
      ]
     },
     "execution_count": 44,
     "metadata": {},
     "output_type": "execute_result"
    }
   ],
   "source": [
    "not True"
   ]
  },
  {
   "cell_type": "code",
   "execution_count": 45,
   "id": "aa384c5a",
   "metadata": {},
   "outputs": [
    {
     "data": {
      "text/plain": [
       "True"
      ]
     },
     "execution_count": 45,
     "metadata": {},
     "output_type": "execute_result"
    }
   ],
   "source": [
    "not False"
   ]
  },
  {
   "cell_type": "code",
   "execution_count": 46,
   "id": "4404ae2b",
   "metadata": {},
   "outputs": [
    {
     "data": {
      "text/plain": [
       "False"
      ]
     },
     "execution_count": 46,
     "metadata": {},
     "output_type": "execute_result"
    }
   ],
   "source": [
    "(4 > 3) and (2 > 3)"
   ]
  },
  {
   "cell_type": "code",
   "execution_count": 47,
   "id": "4a29b946",
   "metadata": {},
   "outputs": [
    {
     "data": {
      "text/plain": [
       "True"
      ]
     },
     "execution_count": 47,
     "metadata": {},
     "output_type": "execute_result"
    }
   ],
   "source": [
    "(4 == 3) or (2 != 3)"
   ]
  },
  {
   "cell_type": "code",
   "execution_count": 48,
   "id": "1ea8162d",
   "metadata": {},
   "outputs": [
    {
     "data": {
      "text/plain": [
       "True"
      ]
     },
     "execution_count": 48,
     "metadata": {},
     "output_type": "execute_result"
    }
   ],
   "source": [
    "not (4 != 4)"
   ]
  },
  {
   "cell_type": "code",
   "execution_count": 50,
   "id": "08497720",
   "metadata": {},
   "outputs": [
    {
     "data": {
      "text/plain": [
       "True"
      ]
     },
     "execution_count": 50,
     "metadata": {},
     "output_type": "execute_result"
    }
   ],
   "source": [
    "(not(4!=4)) and (2 != 3)"
   ]
  },
  {
   "cell_type": "markdown",
   "id": "e7d1d5d0",
   "metadata": {},
   "source": [
    "One major application area is to control the code flow via other Python keywords,\n",
    "such as if or while."
   ]
  },
  {
   "cell_type": "code",
   "execution_count": 52,
   "id": "768108ee",
   "metadata": {},
   "outputs": [
    {
     "name": "stdout",
     "output_type": "stream",
     "text": [
      "condition is true\n"
     ]
    }
   ],
   "source": [
    "if 4 > 3:\n",
    "    print('condition is true')"
   ]
  },
  {
   "cell_type": "code",
   "execution_count": 53,
   "id": "51895291",
   "metadata": {},
   "outputs": [
    {
     "name": "stdout",
     "output_type": "stream",
     "text": [
      "condition is true and i =  0\n",
      "condition is true and i =  1\n",
      "condition is true and i =  2\n",
      "condition is true and i =  3\n"
     ]
    }
   ],
   "source": [
    "i = 0\n",
    "while i < 4:\n",
    "    print('condition is true and i = ', i)\n",
    "    i+=1"
   ]
  },
  {
   "cell_type": "markdown",
   "id": "ba2db6c2",
   "metadata": {},
   "source": [
    "Numerically, Python attaches a value of 0 to False and a value of 1 to True. When\n",
    "transforming numbers to bool objects via the bool() function, a 0 gives False while\n",
    "all other numbers give True."
   ]
  },
  {
   "cell_type": "code",
   "execution_count": 54,
   "id": "79b48417",
   "metadata": {},
   "outputs": [
    {
     "data": {
      "text/plain": [
       "1"
      ]
     },
     "execution_count": 54,
     "metadata": {},
     "output_type": "execute_result"
    }
   ],
   "source": [
    "int(True)"
   ]
  },
  {
   "cell_type": "code",
   "execution_count": 55,
   "id": "c5645e88",
   "metadata": {},
   "outputs": [
    {
     "data": {
      "text/plain": [
       "0"
      ]
     },
     "execution_count": 55,
     "metadata": {},
     "output_type": "execute_result"
    }
   ],
   "source": [
    "int(False)"
   ]
  },
  {
   "cell_type": "code",
   "execution_count": 57,
   "id": "4e9591b5",
   "metadata": {},
   "outputs": [
    {
     "data": {
      "text/plain": [
       "1.0"
      ]
     },
     "execution_count": 57,
     "metadata": {},
     "output_type": "execute_result"
    }
   ],
   "source": [
    "float(True)"
   ]
  },
  {
   "cell_type": "code",
   "execution_count": 58,
   "id": "6cd8d9a6",
   "metadata": {},
   "outputs": [
    {
     "data": {
      "text/plain": [
       "0.0"
      ]
     },
     "execution_count": 58,
     "metadata": {},
     "output_type": "execute_result"
    }
   ],
   "source": [
    "float(False)"
   ]
  },
  {
   "cell_type": "code",
   "execution_count": 59,
   "id": "5525e349",
   "metadata": {},
   "outputs": [
    {
     "data": {
      "text/plain": [
       "False"
      ]
     },
     "execution_count": 59,
     "metadata": {},
     "output_type": "execute_result"
    }
   ],
   "source": [
    "bool(0)"
   ]
  },
  {
   "cell_type": "code",
   "execution_count": 60,
   "id": "9072cc06",
   "metadata": {},
   "outputs": [
    {
     "data": {
      "text/plain": [
       "True"
      ]
     },
     "execution_count": 60,
     "metadata": {},
     "output_type": "execute_result"
    }
   ],
   "source": [
    "bool(1)"
   ]
  },
  {
   "cell_type": "code",
   "execution_count": 61,
   "id": "f71ebef8",
   "metadata": {},
   "outputs": [
    {
     "data": {
      "text/plain": [
       "False"
      ]
     },
     "execution_count": 61,
     "metadata": {},
     "output_type": "execute_result"
    }
   ],
   "source": [
    "bool(0.0000)"
   ]
  },
  {
   "cell_type": "code",
   "execution_count": 62,
   "id": "132e774b",
   "metadata": {},
   "outputs": [
    {
     "data": {
      "text/plain": [
       "True"
      ]
     },
     "execution_count": 62,
     "metadata": {},
     "output_type": "execute_result"
    }
   ],
   "source": [
    "bool(10)"
   ]
  },
  {
   "cell_type": "code",
   "execution_count": 63,
   "id": "79e37372",
   "metadata": {},
   "outputs": [
    {
     "data": {
      "text/plain": [
       "True"
      ]
     },
     "execution_count": 63,
     "metadata": {},
     "output_type": "execute_result"
    }
   ],
   "source": [
    "bool(-2)"
   ]
  },
  {
   "cell_type": "markdown",
   "id": "74a14219",
   "metadata": {},
   "source": [
    "# Strings\n",
    "<!-- no strings attached :)-->"
   ]
  },
  {
   "cell_type": "markdown",
   "id": "30a72d42",
   "metadata": {},
   "source": [
    "A str object is generally defined by single or double quotation marks or by\n",
    "converting another object using the str() function (i.e., using the object’s standard\n",
    "or user-defined str representation)."
   ]
  },
  {
   "cell_type": "code",
   "execution_count": 66,
   "id": "ca3d17f4",
   "metadata": {},
   "outputs": [
    {
     "data": {
      "text/plain": [
       "str"
      ]
     },
     "execution_count": 66,
     "metadata": {},
     "output_type": "execute_result"
    }
   ],
   "source": [
    "t = 'this is a string object'\n",
    "type(t)"
   ]
  },
  {
   "cell_type": "code",
   "execution_count": 67,
   "id": "356d4427",
   "metadata": {},
   "outputs": [
    {
     "data": {
      "text/plain": [
       "'This is a string object'"
      ]
     },
     "execution_count": 67,
     "metadata": {},
     "output_type": "execute_result"
    }
   ],
   "source": [
    "t.capitalize()"
   ]
  },
  {
   "cell_type": "code",
   "execution_count": 68,
   "id": "8e1c2deb",
   "metadata": {},
   "outputs": [
    {
     "data": {
      "text/plain": [
       "['this', 'is', 'a', 'string', 'object']"
      ]
     },
     "execution_count": 68,
     "metadata": {},
     "output_type": "execute_result"
    }
   ],
   "source": [
    "t.split()"
   ]
  },
  {
   "cell_type": "code",
   "execution_count": 73,
   "id": "a06894d3",
   "metadata": {},
   "outputs": [
    {
     "data": {
      "text/plain": [
       "0"
      ]
     },
     "execution_count": 73,
     "metadata": {},
     "output_type": "execute_result"
    }
   ],
   "source": [
    "t.find('th')"
   ]
  },
  {
   "cell_type": "code",
   "execution_count": 74,
   "id": "905dd6be",
   "metadata": {},
   "outputs": [
    {
     "data": {
      "text/plain": [
       "0"
      ]
     },
     "execution_count": 74,
     "metadata": {},
     "output_type": "execute_result"
    }
   ],
   "source": [
    "t.find('t')"
   ]
  },
  {
   "cell_type": "code",
   "execution_count": 75,
   "id": "c590428a",
   "metadata": {},
   "outputs": [
    {
     "data": {
      "text/plain": [
       "10"
      ]
     },
     "execution_count": 75,
     "metadata": {},
     "output_type": "execute_result"
    }
   ],
   "source": [
    "t.find('string')"
   ]
  },
  {
   "cell_type": "markdown",
   "id": "d9e00843",
   "metadata": {},
   "source": [
    "If the word is not in the str object, the method returns -1."
   ]
  },
  {
   "cell_type": "code",
   "execution_count": 76,
   "id": "3716c30a",
   "metadata": {},
   "outputs": [
    {
     "data": {
      "text/plain": [
       "-1"
      ]
     },
     "execution_count": 76,
     "metadata": {},
     "output_type": "execute_result"
    }
   ],
   "source": [
    "t.find('Python')"
   ]
  },
  {
   "cell_type": "code",
   "execution_count": 77,
   "id": "30c7824c",
   "metadata": {},
   "outputs": [
    {
     "data": {
      "text/plain": [
       "'this|is|a|string|object'"
      ]
     },
     "execution_count": 77,
     "metadata": {},
     "output_type": "execute_result"
    }
   ],
   "source": [
    "t.replace(' ', '|')"
   ]
  },
  {
   "cell_type": "code",
   "execution_count": 86,
   "id": "57d3940d",
   "metadata": {},
   "outputs": [
    {
     "data": {
      "text/plain": [
       "'www.python.org'"
      ]
     },
     "execution_count": 86,
     "metadata": {},
     "output_type": "execute_result"
    }
   ],
   "source": [
    "'http://www.python.org'.strip('htp:/')"
   ]
  },
  {
   "cell_type": "code",
   "execution_count": 87,
   "id": "10de5e05",
   "metadata": {},
   "outputs": [
    {
     "data": {
      "text/plain": [
       "'p://www.python.org'"
      ]
     },
     "execution_count": 87,
     "metadata": {},
     "output_type": "execute_result"
    }
   ],
   "source": [
    "'http://www.python.org'.strip('ht')"
   ]
  },
  {
   "cell_type": "code",
   "execution_count": 90,
   "id": "dcf682d6",
   "metadata": {},
   "outputs": [
    {
     "data": {
      "text/plain": [
       "'THIS IS A STRING OBJECT'"
      ]
     },
     "execution_count": 90,
     "metadata": {},
     "output_type": "execute_result"
    }
   ],
   "source": [
    "t.upper()"
   ]
  },
  {
   "cell_type": "markdown",
   "id": "845a8941",
   "metadata": {},
   "source": [
    "| Method | Arguments | Returns/result |\n",
    "|--------|-----------|----------------|\n",
    "| capitalize | () | Copy of the string with first letter capitalized |\n",
    "| count | (sub[, start[, end]]) | Count of the number of occurrences of substring |\n",
    "| encode | ([encoding[, errors]]) | Encoded version of the string |\n",
    "| find | (sub[, start[, end]]) | (Lowest) index where substring is found |\n",
    "| join | (seq) | Concatenation of strings in sequence seq |\n",
    "| replace | (old, new[, count]) | Replaces old by new the first count times |\n",
    "| split | ([sep[, maxsplit]]) | List of words in string with sep as separator |\n",
    "| splitlines | ([keepends]) | Separated lines with line ends/breaks if keepends is True |\n",
    "| strip | (chars) | Copy of string with leading/lagging characters in chars removed |\n",
    "| upper | () | Copy with all letters capitalized |\n",
    "| lower | () | Copy with all letters in lowercase |\n"
   ]
  },
  {
   "cell_type": "code",
   "execution_count": 95,
   "id": "4a8d324c",
   "metadata": {},
   "outputs": [
    {
     "name": "stdout",
     "output_type": "stream",
     "text": [
      "|0|1|2|3|"
     ]
    }
   ],
   "source": [
    "i = 0\n",
    "print(end='|')\n",
    "while i < 4:\n",
    "    print(i, end='|') #default is \\n or break of line if end is not specified\n",
    "    i+=1"
   ]
  },
  {
   "cell_type": "markdown",
   "id": "83e161be",
   "metadata": {},
   "source": [
    "Python offers powerful string replacement operations. There is the old way, via the %\n",
    "character, and the new way, via curly braces ({}) and format(). Both are still applied\n",
    "in practice. This section cannot provide an exhaustive illustration of all options, but\n",
    "the following code snippets show some important ones. First, the old way of doing it.\n",
    "\n",
    "PS: I like the new way"
   ]
  },
  {
   "cell_type": "code",
   "execution_count": 96,
   "id": "d4f38a19",
   "metadata": {},
   "outputs": [
    {
     "data": {
      "text/plain": [
       "'this is an integer 15'"
      ]
     },
     "execution_count": 96,
     "metadata": {},
     "output_type": "execute_result"
    }
   ],
   "source": [
    "'this is an integer %d' %15"
   ]
  },
  {
   "cell_type": "code",
   "execution_count": 97,
   "id": "de701924",
   "metadata": {},
   "outputs": [
    {
     "data": {
      "text/plain": [
       "'this is also an integer   15'"
      ]
     },
     "execution_count": 97,
     "metadata": {},
     "output_type": "execute_result"
    }
   ],
   "source": [
    "'this is also an integer %4d' %15"
   ]
  },
  {
   "cell_type": "code",
   "execution_count": 102,
   "id": "8624b1fa",
   "metadata": {},
   "outputs": [
    {
     "data": {
      "text/plain": [
       "'this is an integer too 0150'"
      ]
     },
     "execution_count": 102,
     "metadata": {},
     "output_type": "execute_result"
    }
   ],
   "source": [
    "'this is an integer too %04d' %150"
   ]
  },
  {
   "cell_type": "code",
   "execution_count": 105,
   "id": "426ed199",
   "metadata": {},
   "outputs": [
    {
     "data": {
      "text/plain": [
       "'this is a float 15.345770'"
      ]
     },
     "execution_count": 105,
     "metadata": {},
     "output_type": "execute_result"
    }
   ],
   "source": [
    "'this is a float %f' %15.34577"
   ]
  },
  {
   "cell_type": "code",
   "execution_count": 107,
   "id": "461ee230",
   "metadata": {},
   "outputs": [
    {
     "data": {
      "text/plain": [
       "'this is also a float 15.98'"
      ]
     },
     "execution_count": 107,
     "metadata": {},
     "output_type": "execute_result"
    }
   ],
   "source": [
    "'this is also a float %.2f' %15.98317649"
   ]
  },
  {
   "cell_type": "code",
   "execution_count": 109,
   "id": "2765b9d6",
   "metadata": {},
   "outputs": [
    {
     "data": {
      "text/plain": [
       "'this is also a float 15.500000'"
      ]
     },
     "execution_count": 109,
     "metadata": {},
     "output_type": "execute_result"
    }
   ],
   "source": [
    "'this is also a float %8f' %15.5"
   ]
  },
  {
   "cell_type": "code",
   "execution_count": 114,
   "id": "09b04f8f",
   "metadata": {},
   "outputs": [
    {
     "data": {
      "text/plain": [
       "'this is also a float    15.50'"
      ]
     },
     "execution_count": 114,
     "metadata": {},
     "output_type": "execute_result"
    }
   ],
   "source": [
    "'this is also a float %8.2f' %15.5"
   ]
  },
  {
   "cell_type": "code",
   "execution_count": 115,
   "id": "26e1553a",
   "metadata": {},
   "outputs": [
    {
     "data": {
      "text/plain": [
       "'this is also a float 00015.50'"
      ]
     },
     "execution_count": 115,
     "metadata": {},
     "output_type": "execute_result"
    }
   ],
   "source": [
    "'this is also a float %08.2f' %15.5"
   ]
  },
  {
   "cell_type": "code",
   "execution_count": 116,
   "id": "4b14c99b",
   "metadata": {},
   "outputs": [
    {
     "data": {
      "text/plain": [
       "'this is a string Python'"
      ]
     },
     "execution_count": 116,
     "metadata": {},
     "output_type": "execute_result"
    }
   ],
   "source": [
    "'this is a string %s' %'Python'"
   ]
  },
  {
   "cell_type": "code",
   "execution_count": 117,
   "id": "6b4c6ed8",
   "metadata": {},
   "outputs": [
    {
     "data": {
      "text/plain": [
       "'this is also a string     python'"
      ]
     },
     "execution_count": 117,
     "metadata": {},
     "output_type": "execute_result"
    }
   ],
   "source": [
    "'this is also a string %10s' %'python'"
   ]
  },
  {
   "cell_type": "markdown",
   "id": "d90d585d",
   "metadata": {},
   "source": [
    "Now, here are the same examples implemented in the new way. Notice the slight differences in the output in some places."
   ]
  },
  {
   "cell_type": "code",
   "execution_count": 119,
   "id": "9dc739f2",
   "metadata": {},
   "outputs": [
    {
     "data": {
      "text/plain": [
       "'this is an integer 15'"
      ]
     },
     "execution_count": 119,
     "metadata": {},
     "output_type": "execute_result"
    }
   ],
   "source": [
    "'this is an integer {:d}'.format(15)"
   ]
  },
  {
   "cell_type": "code",
   "execution_count": 122,
   "id": "6185ed0d",
   "metadata": {},
   "outputs": [
    {
     "data": {
      "text/plain": [
       "'this is an integer   15'"
      ]
     },
     "execution_count": 122,
     "metadata": {},
     "output_type": "execute_result"
    }
   ],
   "source": [
    "'this is an integer {:4d}'.format(15)"
   ]
  },
  {
   "cell_type": "code",
   "execution_count": 123,
   "id": "b8d67ce2",
   "metadata": {},
   "outputs": [
    {
     "data": {
      "text/plain": [
       "'this is an integer 0015'"
      ]
     },
     "execution_count": 123,
     "metadata": {},
     "output_type": "execute_result"
    }
   ],
   "source": [
    "'this is an integer {:04d}'.format(15)"
   ]
  },
  {
   "cell_type": "code",
   "execution_count": 124,
   "id": "bf71514a",
   "metadata": {},
   "outputs": [
    {
     "data": {
      "text/plain": [
       "'this is a float 15.345600'"
      ]
     },
     "execution_count": 124,
     "metadata": {},
     "output_type": "execute_result"
    }
   ],
   "source": [
    "'this is a float {:f}'.format(15.3456)"
   ]
  },
  {
   "cell_type": "code",
   "execution_count": 129,
   "id": "ffdb2f7f",
   "metadata": {},
   "outputs": [
    {
     "data": {
      "text/plain": [
       "'this is a float 15.35'"
      ]
     },
     "execution_count": 129,
     "metadata": {},
     "output_type": "execute_result"
    }
   ],
   "source": [
    "'this is a float {:0.2f}'.format(15.3456)"
   ]
  },
  {
   "cell_type": "code",
   "execution_count": 130,
   "id": "e0143f4e",
   "metadata": {},
   "outputs": [
    {
     "data": {
      "text/plain": [
       "'this is a float 15.345600'"
      ]
     },
     "execution_count": 130,
     "metadata": {},
     "output_type": "execute_result"
    }
   ],
   "source": [
    "'this is a float {:8f}'.format(15.3456)"
   ]
  },
  {
   "cell_type": "code",
   "execution_count": 131,
   "id": "fb0c4547",
   "metadata": {},
   "outputs": [
    {
     "data": {
      "text/plain": [
       "'this is a float    15.35'"
      ]
     },
     "execution_count": 131,
     "metadata": {},
     "output_type": "execute_result"
    }
   ],
   "source": [
    "'this is a float {:8.2f}'.format(15.3456)"
   ]
  },
  {
   "cell_type": "code",
   "execution_count": 132,
   "id": "1b8fe64d",
   "metadata": {},
   "outputs": [
    {
     "data": {
      "text/plain": [
       "'this is a float 00015.35'"
      ]
     },
     "execution_count": 132,
     "metadata": {},
     "output_type": "execute_result"
    }
   ],
   "source": [
    "'this is a float {:08.2f}'.format(15.3456)"
   ]
  },
  {
   "cell_type": "code",
   "execution_count": 133,
   "id": "3a974973",
   "metadata": {},
   "outputs": [
    {
     "data": {
      "text/plain": [
       "'this is a string Python'"
      ]
     },
     "execution_count": 133,
     "metadata": {},
     "output_type": "execute_result"
    }
   ],
   "source": [
    "'this is a string {:s}'.format('Python')"
   ]
  },
  {
   "cell_type": "code",
   "execution_count": 139,
   "id": "27fc5445",
   "metadata": {},
   "outputs": [
    {
     "data": {
      "text/plain": [
       "'this is a string Python    '"
      ]
     },
     "execution_count": 139,
     "metadata": {},
     "output_type": "execute_result"
    }
   ],
   "source": [
    "'this is a string {:10s}'.format('Python')"
   ]
  },
  {
   "cell_type": "markdown",
   "id": "8573a194",
   "metadata": {},
   "source": [
    "Now some examples"
   ]
  },
  {
   "cell_type": "code",
   "execution_count": 140,
   "id": "492788b3",
   "metadata": {},
   "outputs": [
    {
     "name": "stdout",
     "output_type": "stream",
     "text": [
      "the number is 0\n",
      "the number is 1\n",
      "the number is 2\n",
      "the number is 3\n"
     ]
    }
   ],
   "source": [
    "i = 0\n",
    "while i < 4:\n",
    "    print('the number is %d'%i)\n",
    "    i+=1"
   ]
  },
  {
   "cell_type": "code",
   "execution_count": 141,
   "id": "bd0f0743",
   "metadata": {},
   "outputs": [
    {
     "name": "stdout",
     "output_type": "stream",
     "text": [
      "the number is 0\n",
      "the number is 1\n",
      "the number is 2\n",
      "the number is 3\n"
     ]
    }
   ],
   "source": [
    "i = 0\n",
    "while i <4:\n",
    "    print('the number is {:d}'.format(i))\n",
    "    i+=1"
   ]
  },
  {
   "cell_type": "markdown",
   "id": "40a6ea6e",
   "metadata": {},
   "source": [
    "A powerful tool when working with str objects is regular expressions. Python pro‐\n",
    "vides such functionality in the module re."
   ]
  },
  {
   "cell_type": "markdown",
   "id": "a29287be",
   "metadata": {},
   "source": [
    "Suppose a financial analyst is faced with a large text file, such as a CSV file, which\n",
    "contains certain time series and respective date-time information. More often than\n",
    "not, this information is delivered in a format that Python cannot interpret directly.\n",
    "However, the date-time information can generally be described by a regular expression. Consider the following str object, containing three date-time elements, three\n",
    "integers, and three strings. Note that triple quotation marks allow the definition of\n",
    "str objects over multiple rows."
   ]
  },
  {
   "cell_type": "code",
   "execution_count": 233,
   "id": "a7eb5414",
   "metadata": {},
   "outputs": [],
   "source": [
    "import re\n",
    "series = \"\"\"\n",
    "'01/18/2014 13:00:00', 100, '1st';\n",
    "'01/18/2014 13:30:00', 110, '2nd';\n",
    "'01/18/2014 14:00:00', 120, '3rd'\n",
    "\"\"\""
   ]
  },
  {
   "cell_type": "code",
   "execution_count": 235,
   "id": "f836d1a3",
   "metadata": {},
   "outputs": [
    {
     "name": "stderr",
     "output_type": "stream",
     "text": [
      "<>:1: SyntaxWarning: invalid escape sequence '\\s'\n",
      "<>:1: SyntaxWarning: invalid escape sequence '\\s'\n",
      "/var/folders/wl/q8prsl_x2_g_hl0vv6cf0xj00000gn/T/ipykernel_22628/815112625.py:1: SyntaxWarning: invalid escape sequence '\\s'\n",
      "  dt = re.compile(\"'[0-9/:\\s]+'\") #date time finding\n"
     ]
    }
   ],
   "source": [
    "dt = re.compile(\"'[0-9/:\\s]+'\") #date time finding"
   ]
  },
  {
   "cell_type": "code",
   "execution_count": 236,
   "id": "b37adc33",
   "metadata": {},
   "outputs": [],
   "source": [
    "result = dt.findall(series)"
   ]
  },
  {
   "cell_type": "code",
   "execution_count": 237,
   "id": "ddb1fa0c",
   "metadata": {},
   "outputs": [
    {
     "data": {
      "text/plain": [
       "[\"'01/18/2014 13:00:00'\", \"'01/18/2014 13:30:00'\", \"'01/18/2014 14:00:00'\"]"
      ]
     },
     "execution_count": 237,
     "metadata": {},
     "output_type": "execute_result"
    }
   ],
   "source": [
    "result"
   ]
  },
  {
   "cell_type": "markdown",
   "id": "fb166822",
   "metadata": {},
   "source": [
    "Parse the str objects containing the date-time information, one needs to provide\n",
    "information of how to parse them—again as a str object."
   ]
  },
  {
   "cell_type": "code",
   "execution_count": 240,
   "id": "16370d87",
   "metadata": {},
   "outputs": [
    {
     "data": {
      "text/plain": [
       "datetime.datetime(2014, 1, 18, 13, 0)"
      ]
     },
     "execution_count": 240,
     "metadata": {},
     "output_type": "execute_result"
    }
   ],
   "source": [
    "from datetime import datetime\n",
    "pydt = datetime.strptime(result[0].replace(\"'\", \"\"), '%m/%d/%Y %H:%M:%S')\n",
    "pydt"
   ]
  },
  {
   "cell_type": "code",
   "execution_count": 241,
   "id": "361cb353",
   "metadata": {},
   "outputs": [
    {
     "name": "stdout",
     "output_type": "stream",
     "text": [
      "2014-01-18 13:00:00\n"
     ]
    }
   ],
   "source": [
    "print(pydt)"
   ]
  },
  {
   "cell_type": "code",
   "execution_count": 242,
   "id": "a2763fab",
   "metadata": {},
   "outputs": [
    {
     "name": "stdout",
     "output_type": "stream",
     "text": [
      "<class 'datetime.datetime'>\n"
     ]
    }
   ],
   "source": [
    "print(type(pydt))"
   ]
  },
  {
   "cell_type": "markdown",
   "id": "eaba40f2",
   "metadata": {},
   "source": [
    "### Optional: RegEx"
   ]
  },
  {
   "cell_type": "code",
   "execution_count": 161,
   "id": "c06ef90a",
   "metadata": {},
   "outputs": [],
   "source": [
    "import re"
   ]
  },
  {
   "cell_type": "code",
   "execution_count": 190,
   "id": "8f838aa9",
   "metadata": {},
   "outputs": [
    {
     "data": {
      "text/plain": [
       "<re.Match object; span=(0, 13), match='The01234Spain'>"
      ]
     },
     "execution_count": 190,
     "metadata": {},
     "output_type": "execute_result"
    }
   ],
   "source": [
    "txt = \"The01234Spain\"\n",
    "re.search(\"^The.*Spain$\", txt)"
   ]
  },
  {
   "cell_type": "markdown",
   "id": "c359e648",
   "metadata": {},
   "source": [
    "The re module offers a set of functions that allows us to search a string for a match:\n",
    "\n",
    "Function | Description\n",
    "---------|------------\n",
    "findall | Returns a list containing all matches\n",
    "search | Returns a Match object if there is a match anywhere in the string  \n",
    "split | Returns a list where the string has been split at each match\n",
    "sub | Replaces one or many matches with a string\n"
   ]
  },
  {
   "cell_type": "markdown",
   "id": "1c6c8903",
   "metadata": {},
   "source": [
    "Metacharacters are characters with a special meaning:\n",
    "\n",
    "Character | Description | Example\n",
    "----------|-------------|----------\n",
    "[] | A set of characters | \"[a-m]\"\n",
    "\\ | Signals a special sequence (can also be used to escape special characters) | \"\\d\"\n",
    ". | Any character (except newline character) | \"he..o\"\n",
    "^ | Starts with | \"^hello\"\n",
    "$ | Ends with | \"planet$\"\n",
    "* | Zero or more occurrences | \"he.*o\"\n",
    "+ | One or more occurrences | \"he.+o\"\n",
    "? | Zero or one occurrences | \"he.?o\"\n",
    "{} | Exactly the specified number of occurrences | \"he.{2}o\"\n",
    "\\| | Either or | \"falls\\|stays\"\n",
    "() | Capture and group |\n"
   ]
  },
  {
   "cell_type": "code",
   "execution_count": 192,
   "id": "26f3867f",
   "metadata": {},
   "outputs": [
    {
     "name": "stdout",
     "output_type": "stream",
     "text": [
      "['ai', 'ai']\n"
     ]
    }
   ],
   "source": [
    "txt = \"The rain in Spain\"\n",
    "x = re.findall(\"ai\", txt)\n",
    "print(x)"
   ]
  },
  {
   "cell_type": "code",
   "execution_count": 193,
   "id": "edb48369",
   "metadata": {},
   "outputs": [
    {
     "name": "stdout",
     "output_type": "stream",
     "text": [
      "[]\n"
     ]
    }
   ],
   "source": [
    "x = re.findall(\"Portugal\", txt)\n",
    "print(x)"
   ]
  },
  {
   "cell_type": "code",
   "execution_count": 201,
   "id": "ce54f433",
   "metadata": {},
   "outputs": [
    {
     "name": "stderr",
     "output_type": "stream",
     "text": [
      "<>:1: SyntaxWarning: invalid escape sequence '\\s'\n",
      "<>:1: SyntaxWarning: invalid escape sequence '\\s'\n",
      "/var/folders/wl/q8prsl_x2_g_hl0vv6cf0xj00000gn/T/ipykernel_22628/1109758868.py:1: SyntaxWarning: invalid escape sequence '\\s'\n",
      "  x = re.search(\"\\s\", txt) #searching for whitespace charaters\n"
     ]
    }
   ],
   "source": [
    "x = re.search(\"\\s\", txt) #searching for whitespace charaters"
   ]
  },
  {
   "cell_type": "code",
   "execution_count": 203,
   "id": "71700614",
   "metadata": {},
   "outputs": [
    {
     "name": "stdout",
     "output_type": "stream",
     "text": [
      "3\n"
     ]
    }
   ],
   "source": [
    "print(x.start()) #first white space charater in txt"
   ]
  },
  {
   "cell_type": "code",
   "execution_count": 206,
   "id": "3573c41a",
   "metadata": {},
   "outputs": [
    {
     "name": "stdout",
     "output_type": "stream",
     "text": [
      "None\n"
     ]
    }
   ],
   "source": [
    "x = re.search(\"Portugal\", txt)\n",
    "print(x)"
   ]
  },
  {
   "cell_type": "code",
   "execution_count": 208,
   "id": "43b41890",
   "metadata": {},
   "outputs": [
    {
     "name": "stdout",
     "output_type": "stream",
     "text": [
      "['The', 'rain', 'in', 'Spain']\n"
     ]
    },
    {
     "name": "stderr",
     "output_type": "stream",
     "text": [
      "<>:1: SyntaxWarning: invalid escape sequence '\\s'\n",
      "<>:1: SyntaxWarning: invalid escape sequence '\\s'\n",
      "/var/folders/wl/q8prsl_x2_g_hl0vv6cf0xj00000gn/T/ipykernel_22628/3808265102.py:1: SyntaxWarning: invalid escape sequence '\\s'\n",
      "  x = re.split(\"\\s\", txt)\n"
     ]
    }
   ],
   "source": [
    "x = re.split(\"\\s\", txt)\n",
    "print(x)"
   ]
  },
  {
   "cell_type": "code",
   "execution_count": 210,
   "id": "5ba41fbb",
   "metadata": {},
   "outputs": [
    {
     "name": "stdout",
     "output_type": "stream",
     "text": [
      "['The', 'rain in Spain']\n"
     ]
    },
    {
     "name": "stderr",
     "output_type": "stream",
     "text": [
      "<>:1: SyntaxWarning: invalid escape sequence '\\s'\n",
      "<>:1: SyntaxWarning: invalid escape sequence '\\s'\n",
      "/var/folders/wl/q8prsl_x2_g_hl0vv6cf0xj00000gn/T/ipykernel_22628/80864694.py:1: SyntaxWarning: invalid escape sequence '\\s'\n",
      "  x = re.split(\"\\s\", txt, 1) #total number of times we can split by \\s\n"
     ]
    }
   ],
   "source": [
    "x = re.split(\"\\s\", txt, 1) #total number of times we can split by \\s\n",
    "print(x)"
   ]
  },
  {
   "cell_type": "code",
   "execution_count": 216,
   "id": "27352d05",
   "metadata": {},
   "outputs": [
    {
     "name": "stderr",
     "output_type": "stream",
     "text": [
      "<>:1: SyntaxWarning: invalid escape sequence '\\s'\n",
      "<>:1: SyntaxWarning: invalid escape sequence '\\s'\n",
      "/var/folders/wl/q8prsl_x2_g_hl0vv6cf0xj00000gn/T/ipykernel_22628/2986178733.py:1: SyntaxWarning: invalid escape sequence '\\s'\n",
      "  x = re.sub(\"\\s\", \"9\", txt) #replacing every \\s with 9\n"
     ]
    }
   ],
   "source": [
    "x = re.sub(\"\\s\", \"9\", txt) #replacing every \\s with 9"
   ]
  },
  {
   "cell_type": "code",
   "execution_count": 217,
   "id": "823cddbc",
   "metadata": {},
   "outputs": [
    {
     "name": "stdout",
     "output_type": "stream",
     "text": [
      "The9rain9in9Spain\n"
     ]
    }
   ],
   "source": [
    "print(x)"
   ]
  },
  {
   "cell_type": "code",
   "execution_count": 222,
   "id": "63864d37",
   "metadata": {},
   "outputs": [
    {
     "name": "stderr",
     "output_type": "stream",
     "text": [
      "<>:1: SyntaxWarning: invalid escape sequence '\\s'\n",
      "<>:1: SyntaxWarning: invalid escape sequence '\\s'\n",
      "/var/folders/wl/q8prsl_x2_g_hl0vv6cf0xj00000gn/T/ipykernel_22628/3725469942.py:1: SyntaxWarning: invalid escape sequence '\\s'\n",
      "  x = re.sub(\"\\s\", \"9\", txt, 2) #only do sub 2 times\n"
     ]
    }
   ],
   "source": [
    "x = re.sub(\"\\s\", \"9\", txt, 2) #only do sub 2 times"
   ]
  },
  {
   "cell_type": "code",
   "execution_count": 223,
   "id": "37b28847",
   "metadata": {},
   "outputs": [
    {
     "name": "stdout",
     "output_type": "stream",
     "text": [
      "The9rain9in Spain\n"
     ]
    }
   ],
   "source": [
    "print(x)"
   ]
  },
  {
   "cell_type": "code",
   "execution_count": 224,
   "id": "eab96223",
   "metadata": {},
   "outputs": [],
   "source": [
    "x = re.search(\"ai\", txt)"
   ]
  },
  {
   "cell_type": "code",
   "execution_count": 225,
   "id": "3d37c577",
   "metadata": {},
   "outputs": [
    {
     "name": "stdout",
     "output_type": "stream",
     "text": [
      "<re.Match object; span=(5, 7), match='ai'>\n"
     ]
    }
   ],
   "source": [
    "print(x)"
   ]
  },
  {
   "cell_type": "markdown",
   "id": "1f6d03a6",
   "metadata": {},
   "source": [
    "The Match object has properties and methods used to retrieve information about the search, and the result:\n",
    "\n",
    ".span() returns a tuple containing the start-, and end positions of the match.\n",
    "\n",
    ".string returns the string passed into the function\n",
    "\n",
    ".group() returns the part of the string where there was a match"
   ]
  },
  {
   "cell_type": "code",
   "execution_count": 227,
   "id": "07401a89",
   "metadata": {},
   "outputs": [
    {
     "name": "stdout",
     "output_type": "stream",
     "text": [
      "The rain in Spain\n"
     ]
    }
   ],
   "source": [
    "print(txt)"
   ]
  },
  {
   "cell_type": "code",
   "execution_count": 231,
   "id": "6090953c",
   "metadata": {},
   "outputs": [
    {
     "name": "stdout",
     "output_type": "stream",
     "text": [
      "(12, 17)\n",
      "The rain in Spain\n",
      "Spain\n"
     ]
    }
   ],
   "source": [
    "x = re.search(r\"\\bS\\w+\", txt) #The regular expression looks for any words that starts with an upper case \"S\"\n",
    "print(x.span())\n",
    "print(x.string)\n",
    "print(x.group())"
   ]
  },
  {
   "cell_type": "markdown",
   "id": "3ae9d36d",
   "metadata": {},
   "source": [
    "# Tuples"
   ]
  },
  {
   "cell_type": "code",
   "execution_count": 243,
   "id": "a3c869b5",
   "metadata": {},
   "outputs": [
    {
     "data": {
      "text/plain": [
       "tuple"
      ]
     },
     "execution_count": 243,
     "metadata": {},
     "output_type": "execute_result"
    }
   ],
   "source": [
    "t = (1, 2.5, 'data')\n",
    "type(t)"
   ]
  },
  {
   "cell_type": "code",
   "execution_count": 244,
   "id": "cb90e805",
   "metadata": {},
   "outputs": [
    {
     "data": {
      "text/plain": [
       "tuple"
      ]
     },
     "execution_count": 244,
     "metadata": {},
     "output_type": "execute_result"
    }
   ],
   "source": [
    "t = 1, 2.5, 'data'\n",
    "type(t)"
   ]
  },
  {
   "cell_type": "markdown",
   "id": "970f0a1e",
   "metadata": {},
   "source": [
    "It is important to remember that Python uses zero-based numbering."
   ]
  },
  {
   "cell_type": "code",
   "execution_count": 246,
   "id": "0d2f0a7b",
   "metadata": {},
   "outputs": [
    {
     "data": {
      "text/plain": [
       "'data'"
      ]
     },
     "execution_count": 246,
     "metadata": {},
     "output_type": "execute_result"
    }
   ],
   "source": [
    "t[2]"
   ]
  },
  {
   "cell_type": "code",
   "execution_count": 247,
   "id": "c7df3539",
   "metadata": {},
   "outputs": [
    {
     "data": {
      "text/plain": [
       "int"
      ]
     },
     "execution_count": 247,
     "metadata": {},
     "output_type": "execute_result"
    }
   ],
   "source": [
    "type(t[0])"
   ]
  },
  {
   "cell_type": "markdown",
   "id": "dd2968df",
   "metadata": {},
   "source": [
    "There are only two special methods that this object type provides: count() and\n",
    "index()."
   ]
  },
  {
   "cell_type": "code",
   "execution_count": 251,
   "id": "f683b3ed",
   "metadata": {},
   "outputs": [
    {
     "data": {
      "text/plain": [
       "1"
      ]
     },
     "execution_count": 251,
     "metadata": {},
     "output_type": "execute_result"
    }
   ],
   "source": [
    "t.count('data')"
   ]
  },
  {
   "cell_type": "code",
   "execution_count": 253,
   "id": "690daaa5",
   "metadata": {},
   "outputs": [
    {
     "data": {
      "text/plain": [
       "2"
      ]
     },
     "execution_count": 253,
     "metadata": {},
     "output_type": "execute_result"
    }
   ],
   "source": [
    "t.index('data')"
   ]
  },
  {
   "cell_type": "markdown",
   "id": "4c4d27c9",
   "metadata": {},
   "source": [
    "Tuple objects are immutable objects. This means that they, once defined, cannot be changed easily."
   ]
  },
  {
   "cell_type": "markdown",
   "id": "90ae6014",
   "metadata": {},
   "source": [
    "# Lists"
   ]
  },
  {
   "cell_type": "markdown",
   "id": "359f65d7",
   "metadata": {},
   "source": [
    "From a finance point of view, you can achieve a lot working only with list\n",
    "objects, such as storing stock price quotes and appending new data. A list object is\n",
    "defined through brackets and the basic capabilities and behaviors are similar to those\n",
    "of tuple objects."
   ]
  },
  {
   "cell_type": "code",
   "execution_count": 254,
   "id": "147880f3",
   "metadata": {},
   "outputs": [],
   "source": [
    "l = [1, 2.5, 'data']"
   ]
  },
  {
   "cell_type": "code",
   "execution_count": 255,
   "id": "111e792f",
   "metadata": {},
   "outputs": [
    {
     "data": {
      "text/plain": [
       "list"
      ]
     },
     "execution_count": 255,
     "metadata": {},
     "output_type": "execute_result"
    }
   ],
   "source": [
    "type(l)"
   ]
  },
  {
   "cell_type": "code",
   "execution_count": 256,
   "id": "690c6b71",
   "metadata": {},
   "outputs": [
    {
     "data": {
      "text/plain": [
       "'data'"
      ]
     },
     "execution_count": 256,
     "metadata": {},
     "output_type": "execute_result"
    }
   ],
   "source": [
    "l[2]"
   ]
  },
  {
   "cell_type": "code",
   "execution_count": null,
   "id": "1d7b5044",
   "metadata": {},
   "outputs": [],
   "source": [
    "l.append([4, 3])\n"
   ]
  },
  {
   "cell_type": "code",
   "execution_count": 258,
   "id": "ab30e084",
   "metadata": {},
   "outputs": [
    {
     "data": {
      "text/plain": [
       "[1, 2.5, 'data', [4, 3]]"
      ]
     },
     "execution_count": 258,
     "metadata": {},
     "output_type": "execute_result"
    }
   ],
   "source": [
    "l"
   ]
  },
  {
   "cell_type": "code",
   "execution_count": 259,
   "id": "be54fe39",
   "metadata": {},
   "outputs": [],
   "source": [
    "l.extend([1.0, 2.0, 3.0])"
   ]
  },
  {
   "cell_type": "code",
   "execution_count": 261,
   "id": "4946d08e",
   "metadata": {},
   "outputs": [
    {
     "data": {
      "text/plain": [
       "[1, 2.5, 'data', [4, 3], 1.0, 2.0, 3.0]"
      ]
     },
     "execution_count": 261,
     "metadata": {},
     "output_type": "execute_result"
    }
   ],
   "source": [
    "l"
   ]
  },
  {
   "cell_type": "code",
   "execution_count": 262,
   "id": "b667de1e",
   "metadata": {},
   "outputs": [],
   "source": [
    "l.insert(1, 'insert')"
   ]
  },
  {
   "cell_type": "code",
   "execution_count": 263,
   "id": "79969d6f",
   "metadata": {},
   "outputs": [
    {
     "data": {
      "text/plain": [
       "[1, 'insert', 2.5, 'data', [4, 3], 1.0, 2.0, 3.0]"
      ]
     },
     "execution_count": 263,
     "metadata": {},
     "output_type": "execute_result"
    }
   ],
   "source": [
    "l"
   ]
  },
  {
   "cell_type": "code",
   "execution_count": 264,
   "id": "a31eb6c4",
   "metadata": {},
   "outputs": [],
   "source": [
    "l.remove('data')"
   ]
  },
  {
   "cell_type": "code",
   "execution_count": 265,
   "id": "ca9758fd",
   "metadata": {},
   "outputs": [
    {
     "data": {
      "text/plain": [
       "[1, 'insert', 2.5, [4, 3], 1.0, 2.0, 3.0]"
      ]
     },
     "execution_count": 265,
     "metadata": {},
     "output_type": "execute_result"
    }
   ],
   "source": [
    "l"
   ]
  },
  {
   "cell_type": "code",
   "execution_count": 266,
   "id": "f9ebbf32",
   "metadata": {},
   "outputs": [],
   "source": [
    "p = l.pop(3)"
   ]
  },
  {
   "cell_type": "code",
   "execution_count": 268,
   "id": "c7d1d573",
   "metadata": {},
   "outputs": [
    {
     "name": "stdout",
     "output_type": "stream",
     "text": [
      "[1, 'insert', 2.5, 1.0, 2.0, 3.0] [4, 3]\n"
     ]
    }
   ],
   "source": [
    "print(l, p)"
   ]
  },
  {
   "cell_type": "code",
   "execution_count": 269,
   "id": "152f78e7",
   "metadata": {},
   "outputs": [
    {
     "data": {
      "text/plain": [
       "[2.5, 1.0, 2.0]"
      ]
     },
     "execution_count": 269,
     "metadata": {},
     "output_type": "execute_result"
    }
   ],
   "source": [
    "l[2:5]"
   ]
  },
  {
   "cell_type": "markdown",
   "id": "ac4d9796",
   "metadata": {},
   "source": [
    "| Method | Arguments | Returns/Result |\n",
    "|--------|-----------|----------------|\n",
    "| l[i] = x | [i] | Replaces i-th element by x |\n",
    "| l[i:j:k] = s | [i:j:k] | Replaces every k-th element from i to j – 1 by s |\n",
    "| append(x) | x | Appends x to object |\n",
    "| count(x) | x | Number of occurrences of object x |\n",
    "| del l[i:j:k] | [i:j:k] | Deletes elements with index values i to j – 1 and step size k |\n",
    "| extend(s) | s | Appends all elements of s to object |\n",
    "| index(x[, i[, j]]) | x[, i[, j]] | First index of x between elements i and j – 1 |\n",
    "| insert(i, x) | i, x | Inserts x at/before index i |\n",
    "| remove(x) | x | Removes element x at first match |\n",
    "| pop(i) | i | Removes element with index i and returns it |\n",
    "| reverse() | None | Reverses all items in place |\n",
    "| sort([cmp[, key[, reverse]]]) | [cmp[, key[, reverse]]] | Sorts all items in place |\n"
   ]
  },
  {
   "cell_type": "code",
   "execution_count": 281,
   "id": "b98efa5b",
   "metadata": {},
   "outputs": [
    {
     "name": "stdout",
     "output_type": "stream",
     "text": [
      "[1.0, 2.0, 2.5]\n",
      "[2.5, 1.0, 2.0]\n"
     ]
    }
   ],
   "source": [
    "l_dash = l[2:5]\n",
    "l_dash.sort()\n",
    "print(l_dash)\n",
    "print(l[2:5])"
   ]
  },
  {
   "cell_type": "code",
   "execution_count": 284,
   "id": "2e4f5456",
   "metadata": {},
   "outputs": [
    {
     "name": "stdout",
     "output_type": "stream",
     "text": [
      "6.25\n",
      "1.0\n",
      "4.0\n"
     ]
    }
   ],
   "source": [
    "for element in l[2:5]:\n",
    "    print(element ** 2)"
   ]
  },
  {
   "cell_type": "code",
   "execution_count": 285,
   "id": "1ab7d043",
   "metadata": {},
   "outputs": [],
   "source": [
    "r = range(0,8,1)"
   ]
  },
  {
   "cell_type": "code",
   "execution_count": 287,
   "id": "8234b267",
   "metadata": {},
   "outputs": [
    {
     "data": {
      "text/plain": [
       "range"
      ]
     },
     "execution_count": 287,
     "metadata": {},
     "output_type": "execute_result"
    }
   ],
   "source": [
    "type(r)"
   ]
  },
  {
   "cell_type": "code",
   "execution_count": 288,
   "id": "e0df796c",
   "metadata": {},
   "outputs": [
    {
     "name": "stdout",
     "output_type": "stream",
     "text": [
      "0\n",
      "1\n",
      "2\n",
      "3\n",
      "4\n",
      "5\n",
      "6\n",
      "7\n"
     ]
    }
   ],
   "source": [
    "for i in r:\n",
    "    print(i)"
   ]
  },
  {
   "cell_type": "code",
   "execution_count": 289,
   "id": "aaf1ef93",
   "metadata": {},
   "outputs": [
    {
     "name": "stdout",
     "output_type": "stream",
     "text": [
      "6.25\n",
      "1.0\n",
      "4.0\n"
     ]
    }
   ],
   "source": [
    "for i in range(2,5):\n",
    "    print(l[i] ** 2)"
   ]
  },
  {
   "cell_type": "code",
   "execution_count": 290,
   "id": "71bc4a83",
   "metadata": {},
   "outputs": [
    {
     "name": "stdout",
     "output_type": "stream",
     "text": [
      "1 is odd\n",
      "2 is even\n",
      "3 is multiple of 3\n",
      "4 is even\n",
      "5 is odd\n",
      "6 is even\n",
      "7 is odd\n",
      "8 is even\n",
      "9 is multiple of 3\n"
     ]
    }
   ],
   "source": [
    "for i in range(1, 10):\n",
    "    if i %2 == 0:\n",
    "        print(\"%d is even\"%i)\n",
    "    elif i%3 == 0:\n",
    "        print(\"%d is multiple of 3\"%i)\n",
    "    else:\n",
    "        print(\"%d is odd\"%i)"
   ]
  },
  {
   "cell_type": "markdown",
   "id": "508a685b",
   "metadata": {},
   "source": [
    "A specialty of Python is so-called list comprehensions. Instead of looping over existing list objects, this approach generates list objects via loops in a rather compact fashion."
   ]
  },
  {
   "cell_type": "code",
   "execution_count": 291,
   "id": "d7611162",
   "metadata": {},
   "outputs": [
    {
     "data": {
      "text/plain": [
       "[0, 1, 4, 9, 16]"
      ]
     },
     "execution_count": 291,
     "metadata": {},
     "output_type": "execute_result"
    }
   ],
   "source": [
    "m = [i**2 for i in range(5)]\n",
    "m"
   ]
  },
  {
   "cell_type": "markdown",
   "id": "17c23ffc",
   "metadata": {},
   "source": [
    "Python provides a number of tools for functional programming support as well—i.e.,\n",
    "the application of a function to a whole set of inputs (in our case list objects).\n",
    "Among these tools are filter(), map(), and reduce(). However, one needs a function definition first. To start with something really simple, consider a function f()\n",
    "that returns the square of the input x."
   ]
  },
  {
   "cell_type": "code",
   "execution_count": 292,
   "id": "d36acbb6",
   "metadata": {},
   "outputs": [],
   "source": [
    "def f(x):\n",
    "    return x**2"
   ]
  },
  {
   "cell_type": "code",
   "execution_count": 293,
   "id": "7ddc97c3",
   "metadata": {},
   "outputs": [
    {
     "data": {
      "text/plain": [
       "4"
      ]
     },
     "execution_count": 293,
     "metadata": {},
     "output_type": "execute_result"
    }
   ],
   "source": [
    "f(2)"
   ]
  },
  {
   "cell_type": "code",
   "execution_count": 294,
   "id": "860b71fc",
   "metadata": {},
   "outputs": [
    {
     "data": {
      "text/plain": [
       "False"
      ]
     },
     "execution_count": 294,
     "metadata": {},
     "output_type": "execute_result"
    }
   ],
   "source": [
    "def even(x):\n",
    "    return x%2 == 0\n",
    "even(3)"
   ]
  },
  {
   "cell_type": "code",
   "execution_count": 296,
   "id": "76293bfb",
   "metadata": {},
   "outputs": [
    {
     "data": {
      "text/plain": [
       "[True, False, True, False, True, False, True, False, True, False]"
      ]
     },
     "execution_count": 296,
     "metadata": {},
     "output_type": "execute_result"
    }
   ],
   "source": [
    "list(map(even, range(0, 10)))"
   ]
  },
  {
   "cell_type": "code",
   "execution_count": 298,
   "id": "17e84d7e",
   "metadata": {},
   "outputs": [
    {
     "data": {
      "text/plain": [
       "[0, 1, 4, 9, 16, 25, 36, 49, 64, 81]"
      ]
     },
     "execution_count": 298,
     "metadata": {},
     "output_type": "execute_result"
    }
   ],
   "source": [
    "list(map(lambda x: x**2, range(0, 10)))"
   ]
  },
  {
   "cell_type": "code",
   "execution_count": 299,
   "id": "42f6a0f7",
   "metadata": {},
   "outputs": [
    {
     "data": {
      "text/plain": [
       "[0, 2, 4, 6, 8, 10, 12, 14]"
      ]
     },
     "execution_count": 299,
     "metadata": {},
     "output_type": "execute_result"
    }
   ],
   "source": [
    "list(filter(even, range(15)))"
   ]
  },
  {
   "cell_type": "markdown",
   "id": "a95dddd2",
   "metadata": {},
   "source": [
    "# Dicts"
   ]
  },
  {
   "cell_type": "markdown",
   "id": "dd700d5d",
   "metadata": {},
   "source": [
    "They are so-called key-value stores."
   ]
  },
  {
   "cell_type": "code",
   "execution_count": 300,
   "id": "d4081ba3",
   "metadata": {},
   "outputs": [],
   "source": [
    "d = {\n",
    "    'Name' : 'Dhairya Kantawala',\n",
    "    'Department' : 'Mathematics',\n",
    "    'Age' : 20\n",
    "}"
   ]
  },
  {
   "cell_type": "code",
   "execution_count": 301,
   "id": "d2e15c13",
   "metadata": {},
   "outputs": [
    {
     "data": {
      "text/plain": [
       "dict"
      ]
     },
     "execution_count": 301,
     "metadata": {},
     "output_type": "execute_result"
    }
   ],
   "source": [
    "type(d)"
   ]
  },
  {
   "cell_type": "code",
   "execution_count": 302,
   "id": "1ec9f4cd",
   "metadata": {},
   "outputs": [
    {
     "name": "stdout",
     "output_type": "stream",
     "text": [
      "Dhairya Kantawala 20\n"
     ]
    }
   ],
   "source": [
    "print(d['Name'], d['Age'])"
   ]
  },
  {
   "cell_type": "code",
   "execution_count": 306,
   "id": "9a132fc1",
   "metadata": {},
   "outputs": [
    {
     "data": {
      "text/plain": [
       "dict_keys(['Name', 'Department', 'Age'])"
      ]
     },
     "execution_count": 306,
     "metadata": {},
     "output_type": "execute_result"
    }
   ],
   "source": [
    "d.keys()"
   ]
  },
  {
   "cell_type": "code",
   "execution_count": 307,
   "id": "5a17028e",
   "metadata": {},
   "outputs": [
    {
     "data": {
      "text/plain": [
       "dict_values(['Dhairya Kantawala', 'Mathematics', 20])"
      ]
     },
     "execution_count": 307,
     "metadata": {},
     "output_type": "execute_result"
    }
   ],
   "source": [
    "d.values()"
   ]
  },
  {
   "cell_type": "code",
   "execution_count": 308,
   "id": "a395659d",
   "metadata": {},
   "outputs": [
    {
     "data": {
      "text/plain": [
       "dict_items([('Name', 'Dhairya Kantawala'), ('Department', 'Mathematics'), ('Age', 20)])"
      ]
     },
     "execution_count": 308,
     "metadata": {},
     "output_type": "execute_result"
    }
   ],
   "source": [
    "d.items()"
   ]
  },
  {
   "cell_type": "code",
   "execution_count": 309,
   "id": "b930e905",
   "metadata": {},
   "outputs": [
    {
     "name": "stdout",
     "output_type": "stream",
     "text": [
      "21\n"
     ]
    }
   ],
   "source": [
    "birthday = True\n",
    "if birthday:\n",
    "    d['Age']+=1\n",
    "print(d['Age'])"
   ]
  },
  {
   "cell_type": "code",
   "execution_count": 313,
   "id": "cedcbc42",
   "metadata": {},
   "outputs": [
    {
     "name": "stdout",
     "output_type": "stream",
     "text": [
      "('Name', 'Dhairya Kantawala')\n",
      "('Department', 'Mathematics')\n",
      "('Age', 21)\n"
     ]
    }
   ],
   "source": [
    "for item in d.items():\n",
    "    print(item)"
   ]
  },
  {
   "cell_type": "code",
   "execution_count": 314,
   "id": "22312f1d",
   "metadata": {},
   "outputs": [
    {
     "name": "stdout",
     "output_type": "stream",
     "text": [
      "Dhairya Kantawala\n",
      "Mathematics\n",
      "21\n"
     ]
    }
   ],
   "source": [
    "for value in d.values():\n",
    "    print(value)"
   ]
  },
  {
   "cell_type": "markdown",
   "id": "0a92c4d2",
   "metadata": {},
   "source": [
    "| Method | Arguments | Returns/result |\n",
    "| --- | --- | --- |\n",
    "| d[k] | [k] | Item of d with key k |\n",
    "| d[k] = x | [k] | Sets item key k to x |\n",
    "| del d[k] | [k] | Deletes item with key k |\n",
    "| clear | () | Removes all items |\n",
    "| copy | () | Makes a copy |\n",
    "| items | () | Iterator over all items |\n",
    "| keys | () | Iterator over all keys |\n",
    "| values | () | Iterator over all values |\n",
    "| popitem | (k) | Returns and removes item with key k |\n",
    "| update | ([e]) | Updates items with items from e |\n"
   ]
  },
  {
   "cell_type": "code",
   "execution_count": 336,
   "id": "26db0e33",
   "metadata": {},
   "outputs": [],
   "source": [
    "d.update({'Height': \"5'9\"})"
   ]
  },
  {
   "cell_type": "code",
   "execution_count": 337,
   "id": "9466062a",
   "metadata": {},
   "outputs": [
    {
     "data": {
      "text/plain": [
       "\"5'9\""
      ]
     },
     "execution_count": 337,
     "metadata": {},
     "output_type": "execute_result"
    }
   ],
   "source": [
    "d['Height']"
   ]
  },
  {
   "cell_type": "code",
   "execution_count": 338,
   "id": "a8c9e7d4",
   "metadata": {},
   "outputs": [],
   "source": [
    "d.clear()"
   ]
  },
  {
   "cell_type": "code",
   "execution_count": 339,
   "id": "1554776e",
   "metadata": {},
   "outputs": [
    {
     "data": {
      "text/plain": [
       "{}"
      ]
     },
     "execution_count": 339,
     "metadata": {},
     "output_type": "execute_result"
    }
   ],
   "source": [
    "d"
   ]
  },
  {
   "cell_type": "markdown",
   "id": "294da0b3",
   "metadata": {},
   "source": [
    "# Sets"
   ]
  },
  {
   "cell_type": "markdown",
   "id": "338c4448",
   "metadata": {},
   "source": [
    "The objects are unordered collections of other\n",
    "objects, containing every element only once."
   ]
  },
  {
   "cell_type": "code",
   "execution_count": 340,
   "id": "acd9363c",
   "metadata": {},
   "outputs": [],
   "source": [
    "s = set(['u', 'du', 'u', 'du'])"
   ]
  },
  {
   "cell_type": "code",
   "execution_count": 341,
   "id": "3c5a55d4",
   "metadata": {},
   "outputs": [
    {
     "data": {
      "text/plain": [
       "{'du', 'u'}"
      ]
     },
     "execution_count": 341,
     "metadata": {},
     "output_type": "execute_result"
    }
   ],
   "source": [
    "s"
   ]
  },
  {
   "cell_type": "code",
   "execution_count": 342,
   "id": "a9ac5ad3",
   "metadata": {},
   "outputs": [],
   "source": [
    "t = set(['f', 'u'])"
   ]
  },
  {
   "cell_type": "code",
   "execution_count": 343,
   "id": "a9ff9c0f",
   "metadata": {},
   "outputs": [
    {
     "data": {
      "text/plain": [
       "{'f', 'u'}"
      ]
     },
     "execution_count": 343,
     "metadata": {},
     "output_type": "execute_result"
    }
   ],
   "source": [
    "t"
   ]
  },
  {
   "cell_type": "code",
   "execution_count": 344,
   "id": "7978f49c",
   "metadata": {},
   "outputs": [
    {
     "data": {
      "text/plain": [
       "{'du', 'f', 'u'}"
      ]
     },
     "execution_count": 344,
     "metadata": {},
     "output_type": "execute_result"
    }
   ],
   "source": [
    "s.union(t)"
   ]
  },
  {
   "cell_type": "code",
   "execution_count": 345,
   "id": "4c7b8396",
   "metadata": {},
   "outputs": [
    {
     "data": {
      "text/plain": [
       "{'u'}"
      ]
     },
     "execution_count": 345,
     "metadata": {},
     "output_type": "execute_result"
    }
   ],
   "source": [
    "s.intersection(t)"
   ]
  },
  {
   "cell_type": "code",
   "execution_count": 347,
   "id": "3b2b9cfb",
   "metadata": {},
   "outputs": [
    {
     "data": {
      "text/plain": [
       "{'du'}"
      ]
     },
     "execution_count": 347,
     "metadata": {},
     "output_type": "execute_result"
    }
   ],
   "source": [
    "s.difference(t) #items in s but not in t"
   ]
  },
  {
   "cell_type": "code",
   "execution_count": 348,
   "id": "f24f679d",
   "metadata": {},
   "outputs": [
    {
     "data": {
      "text/plain": [
       "{'du', 'f'}"
      ]
     },
     "execution_count": 348,
     "metadata": {},
     "output_type": "execute_result"
    }
   ],
   "source": [
    "s.symmetric_difference(t)"
   ]
  },
  {
   "cell_type": "code",
   "execution_count": 349,
   "id": "18421633",
   "metadata": {},
   "outputs": [
    {
     "data": {
      "text/plain": [
       "1000"
      ]
     },
     "execution_count": 349,
     "metadata": {},
     "output_type": "execute_result"
    }
   ],
   "source": [
    "from random import randint\n",
    "l = [randint(0, 10) for i in range(1000)]\n",
    "len(l)"
   ]
  },
  {
   "cell_type": "code",
   "execution_count": 350,
   "id": "f5abc457",
   "metadata": {},
   "outputs": [],
   "source": [
    "s = set(l)"
   ]
  },
  {
   "cell_type": "code",
   "execution_count": 351,
   "id": "e08fc56e",
   "metadata": {},
   "outputs": [
    {
     "data": {
      "text/plain": [
       "{0, 1, 2, 3, 4, 5, 6, 7, 8, 9, 10}"
      ]
     },
     "execution_count": 351,
     "metadata": {},
     "output_type": "execute_result"
    }
   ],
   "source": [
    "s"
   ]
  }
 ],
 "metadata": {
  "kernelspec": {
   "display_name": "new_env",
   "language": "python",
   "name": "python3"
  },
  "language_info": {
   "codemirror_mode": {
    "name": "ipython",
    "version": 3
   },
   "file_extension": ".py",
   "mimetype": "text/x-python",
   "name": "python",
   "nbconvert_exporter": "python",
   "pygments_lexer": "ipython3",
   "version": "3.12.7"
  }
 },
 "nbformat": 4,
 "nbformat_minor": 5
}
