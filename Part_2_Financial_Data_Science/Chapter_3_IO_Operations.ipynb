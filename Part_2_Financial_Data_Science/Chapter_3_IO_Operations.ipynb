{
 "cells": [
  {
   "cell_type": "markdown",
   "id": "1bafbbcf",
   "metadata": {},
   "source": [
    "# Basic I/O with Python"
   ]
  },
  {
   "cell_type": "markdown",
   "id": "c0125bc5",
   "metadata": {},
   "source": [
    "## Writing Objects to Disk"
   ]
  },
  {
   "cell_type": "markdown",
   "id": "0ebedf1a",
   "metadata": {},
   "source": [
    "## Reading and Writing Text Files"
   ]
  },
  {
   "cell_type": "markdown",
   "id": "b1f912ab",
   "metadata": {},
   "source": [
    "## Working with SQL Databases"
   ]
  },
  {
   "cell_type": "markdown",
   "id": "6263c2c5",
   "metadata": {},
   "source": [
    "## Writing and Reading NumPy Arrays"
   ]
  },
  {
   "cell_type": "markdown",
   "id": "24eb8ba4",
   "metadata": {},
   "source": [
    "# I/O with pandas"
   ]
  },
  {
   "cell_type": "markdown",
   "id": "4321a4a0",
   "metadata": {},
   "source": [
    "## Working with SQL Databases"
   ]
  },
  {
   "cell_type": "markdown",
   "id": "6e6b5eff",
   "metadata": {},
   "source": [
    "## From SQL to pandas"
   ]
  },
  {
   "cell_type": "markdown",
   "id": "ed63d18c",
   "metadata": {},
   "source": [
    "## Working with CSV Files"
   ]
  },
  {
   "cell_type": "markdown",
   "id": "3793383d",
   "metadata": {},
   "source": [
    "## Working with Excel Files"
   ]
  },
  {
   "cell_type": "markdown",
   "id": "e6365dff",
   "metadata": {},
   "source": [
    "# I/O with PyTables"
   ]
  },
  {
   "cell_type": "markdown",
   "id": "90aade28",
   "metadata": {},
   "source": [
    "## Working with Tables"
   ]
  },
  {
   "cell_type": "markdown",
   "id": "0b3c7485",
   "metadata": {},
   "source": [
    "## Working with Compressed Tables"
   ]
  },
  {
   "cell_type": "markdown",
   "id": "0a2fa2cb",
   "metadata": {},
   "source": [
    "## Working with Arrays"
   ]
  },
  {
   "cell_type": "markdown",
   "id": "b0878ced",
   "metadata": {},
   "source": [
    "## Out-of-Memory Computations"
   ]
  },
  {
   "cell_type": "markdown",
   "id": "484ad743",
   "metadata": {},
   "source": [
    "# I/O with TsTables"
   ]
  },
  {
   "cell_type": "markdown",
   "id": "2cc4bad5",
   "metadata": {},
   "source": [
    "## Sample Data"
   ]
  },
  {
   "cell_type": "markdown",
   "id": "8b91f80b",
   "metadata": {},
   "source": [
    "## Data Storage"
   ]
  },
  {
   "cell_type": "markdown",
   "id": "e6e3f803",
   "metadata": {},
   "source": [
    "## Data Retrieval"
   ]
  }
 ],
 "metadata": {
  "language_info": {
   "name": "python"
  }
 },
 "nbformat": 4,
 "nbformat_minor": 5
}
